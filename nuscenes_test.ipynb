{
 "cells": [
  {
   "cell_type": "code",
   "execution_count": null,
   "metadata": {},
   "outputs": [],
   "source": [
    "import os\n",
    "import subprocess\n",
    "from pathlib import Path\n",
    "import torch\n",
    "from mmdet3d.evaluation.metrics import nuscenes_metric as nus_metric\n",
    "from mmdet3d.evaluation.metrics.nuscenes_metric import output_to_nusc_box\n",
    "import json \n",
    "from pyquaternion import Quaternion\n",
    "from nuscenes.utils.data_classes import Box\n",
    "from nuscenes.utils.geometry_utils import transform_matrix\n",
    "import operator\n",
    "from functools import reduce\n",
    "from pathlib import Path\n",
    "import numpy as np\n",
    "from nuscenes.nuscenes import NuScenes\n",
    "from nuscenes.eval.detection.config import config_factory\n",
    "from nuscenes.eval.detection.evaluate import NuScenesEval\n",
    "from nuscenes.utils.data_classes import RadarPointCloud\n",
    "from classes import cls_attr_dist, class_names, mini_val_tokens\n",
    "from custom_env import home_dir, output_dir, preds_dir, model_dir, is_set_to_mini\n",
    "from custom_env import dataset_root as dataroot\n",
    "from nuscenes.utils.geometry_utils import view_points, box_in_image, BoxVisibility\n",
    "\n",
    "import nuscenes_render"
   ]
  },
  {
   "cell_type": "code",
   "execution_count": null,
   "metadata": {},
   "outputs": [],
   "source": [
    "eval_set_map = {\n",
    "        'v1.0-mini': 'mini_val',\n",
    "        'v1.0-trainval': 'val',\n",
    "        'v1.0-test': 'test'\n",
    "    }\n",
    "\n",
    "dataset_version = 'v1.0-mini' if is_set_to_mini() else 'v1.0-trainval'\n",
    "try:\n",
    "    eval_version = 'detection_cvpr_2019'\n",
    "    eval_config = config_factory(eval_version)\n",
    "except:\n",
    "    eval_version = 'cvpr_2019'\n",
    "    eval_config = config_factory(eval_version)\n",
    "    \n",
    "\n",
    "DETECTION_THRESHOLD = 0.35\n",
    "\n",
    "backend_args = None\n",
    "nusc = NuScenes(version=dataset_version, dataroot = dataroot)\n",
    "ann_file = f'{dataroot}nuscenes_infos_val.pkl'\n",
    "metric='bbox'\n",
    "\n",
    "pcd_path = f\"{dataroot}/samples/LIDAR_TOP/\"\n",
    "mmdet_path = f\"{home_dir}/software/mmdetection3d\"\n",
    "pcd_list = os.listdir(pcd_path)"
   ]
  },
  {
   "cell_type": "code",
   "execution_count": null,
   "metadata": {},
   "outputs": [],
   "source": [
    "list_of_classes = [\"ped\", \"obs\"]\n",
    "\n",
    "PED = 0\n",
    "OBS = 1\n",
    "EMPTY = 2\n",
    "\n",
    "labels = {0: \"ped\", 1: \"obs\", 2:\"empty\"}\n",
    "\n",
    "conf_mat_mapping = {\n",
    "    \"pedestrian\": PED,\n",
    "    \"bus\": OBS,\n",
    "    \"car\" : OBS,\n",
    "    \"truck\": OBS,\n",
    "    \"bicycle\": OBS,\n",
    "    \"motorcycle\": OBS,\n",
    "    \"traffic_cone\": OBS\n",
    "}"
   ]
  },
  {
   "cell_type": "code",
   "execution_count": null,
   "metadata": {},
   "outputs": [],
   "source": [
    "def __load_ego_veh(self, sample_token:str):\n",
    "    sample = nusc.get('sample', sample_token)\n",
    "    sd_record = nusc.get('sample_data', sample['data']['LIDAR_TOP'])\n",
    "    return nusc.get('ego_pose', sd_record['ego_pose_token'])\n",
    "\n",
    "print(__load_ego_veh(nusc, \"b5989651183643369174912bc5641d3b\"))"
   ]
  },
  {
   "cell_type": "code",
   "execution_count": null,
   "metadata": {},
   "outputs": [],
   "source": [
    "from nuscenes_render import convert_ego_pose_to_flat_veh_coords, render_specific_gt_and_predictions, render_sample_data_with_predictions\n",
    "from generate_confusion_matrix import GenerateConfusionMatrix, convert_from_EvalBox_to_Box\n",
    "\n",
    "generator = GenerateConfusionMatrix(nusc=nusc, \n",
    "                                    config=eval_config,\n",
    "                                    eval_set=eval_set_map[dataset_version],\n",
    "                                    result_path=f'{model_dir}/results_nusc.json',\n",
    "                                    output_dir=os.getcwd(),\n",
    "                                    verbose=True,\n",
    "                                    conf_mat_mapping=conf_mat_mapping,\n",
    "                                    list_of_classes=list_of_classes,\n",
    "                                    distance_parametrized=True,\n",
    "                                    max_dist=100,\n",
    "                                    distance_bin=10)"
   ]
  },
  {
   "cell_type": "code",
   "execution_count": null,
   "metadata": {},
   "outputs": [],
   "source": [
    "import random\n",
    "\n",
    "sample = \"b5989651183643369174912bc5641d3b\"\n",
    "random.seed(42)\n",
    "sample = random.choice(generator.sample_tokens)\n",
    "print(sample)\n",
    "sample = nusc.get('sample', sample)"
   ]
  },
  {
   "cell_type": "code",
   "execution_count": null,
   "metadata": {},
   "outputs": [],
   "source": [
    "l = []\n",
    "pred_boxes = [generator.disc_pred_boxes[rad_band][sample['token']] for rad_band in generator.disc_pred_boxes.keys()]\n",
    "\n",
    "[l.extend(box) for box in pred_boxes]\n",
    "\n",
    "\n",
    "\n",
    "sd_record = nusc.get('sample_data', sample['data']['LIDAR_TOP'])\n",
    "cs_record = nusc.get('calibrated_sensor', sd_record['calibrated_sensor_token'])\n",
    "sensor_record = nusc.get('sensor', cs_record['sensor_token'])\n",
    "pose_record = nusc.get('ego_pose', sd_record['ego_pose_token'])\n",
    "\n",
    "print(f\"---------------EGO POSE: \\n{pose_record['translation']}\")\n",
    "print(f\"\\n---------------GROUND_TRUTH: \")\n",
    "for box in generator.gt_boxes.all[:5]: print(box.translation)\n",
    "print(f\"\\n---------------PREDS: \")\n",
    "for box in l[:5]: print(box.translation)\n",
    "# for box in generator.pred_boxes.all[:5]: print(box.translation)\n",
    "\n",
    "\n",
    "\n"
   ]
  },
  {
   "cell_type": "code",
   "execution_count": null,
   "metadata": {},
   "outputs": [],
   "source": [
    "l = [convert_from_EvalBox_to_Box(box) for box in l]\n"
   ]
  },
  {
   "cell_type": "code",
   "execution_count": null,
   "metadata": {},
   "outputs": [],
   "source": [
    "sample['data']['LIDAR_TOP'] #a977b0e797694036a9c40ab80f9d0ebc"
   ]
  },
  {
   "cell_type": "code",
   "execution_count": null,
   "metadata": {},
   "outputs": [],
   "source": [
    "\n",
    "render_sample_data_with_predictions(sample_data_token=sample['data']['LIDAR_TOP'], \n",
    "                                    with_anns = True, \n",
    "                                    underlay_map = True,\n",
    "                                    use_flat_vehicle_coordinates = True,\n",
    "                                    pred_boxes=l,\n",
    "                                    nusc=generator.nusc)"
   ]
  },
  {
   "cell_type": "code",
   "execution_count": 18,
   "metadata": {},
   "outputs": [
    {
     "name": "stdout",
     "output_type": "stream",
     "text": [
      "{'token': 'dbed4cee903546d5b402f9ace1d3f399', 'sample_token': 'f753d3f87e5b40af87ff2cbf7c8e7082', 'instance_token': 'ab8d210d019b44abae3c4e0eee6ce8ba', 'visibility_token': '4', 'attribute_tokens': ['ab83627ff28b465b85c427162dec722f'], 'translation': [631.196, 1640.849, 1.131], 'size': [0.621, 0.647, 1.778], 'rotation': [0.3248914721141039, 0.0, 0.0, 0.945751305231735], 'prev': 'decf1f76406945468e1446925c139e7c', 'next': '5b661c6079224ec1ab4d5f5ca9b47b1e', 'num_lidar_pts': 3, 'num_radar_pts': 1, 'category_name': 'human.pedestrian.adult'}\n",
      "{'token': '02f4d59d74a04e95929e61b1ab328556', 'sample_token': 'f753d3f87e5b40af87ff2cbf7c8e7082', 'instance_token': '3b19bb63d0924f4da3034819357d6c8b', 'visibility_token': '4', 'attribute_tokens': ['ab83627ff28b465b85c427162dec722f'], 'translation': [605.212, 1638.044, 2.283], 'size': [0.688, 0.944, 1.904], 'rotation': [0.2980330202825458, 0.0, 0.0, 0.9545555608875073], 'prev': 'd8427cc7a2d94f9ab319c8c987ed32eb', 'next': 'a3eccc696c80448f9b7ec989be07aa24', 'num_lidar_pts': 2, 'num_radar_pts': 0, 'category_name': 'human.pedestrian.adult'}\n",
      "{'token': '109f33b1d4c84c16ad7e0781f10eb8ba', 'sample_token': 'f753d3f87e5b40af87ff2cbf7c8e7082', 'instance_token': '8ce4fe54af77467d90c840465f69677f', 'visibility_token': '1', 'attribute_tokens': ['58aa28b1c2a54dc88e169808c07331e3'], 'translation': [674.635, 1564.186, 1.613], 'size': [1.87, 4.837, 2.0], 'rotation': [0.3243632143817344, 0.0, 0.0, 0.9459326113185595], 'prev': '384b62794af74412affc7fa9dc2e052e', 'next': 'b68d19dbcb46488dbba0af0cea289b63', 'num_lidar_pts': 0, 'num_radar_pts': 0, 'category_name': 'vehicle.car'}\n",
      "{'token': '82a62ee4c5bc4e44a889b406e868444d', 'sample_token': 'f753d3f87e5b40af87ff2cbf7c8e7082', 'instance_token': '68a40df2846e4298af0417ea12721b5c', 'visibility_token': '3', 'attribute_tokens': ['ab83627ff28b465b85c427162dec722f'], 'translation': [610.397, 1653.127, 1.988], 'size': [0.578, 0.613, 1.752], 'rotation': [0.19259903643537446, 0.0, 0.0, 0.9812775403341123], 'prev': '7a0cca0f12d547518dd80d8df2c501bb', 'next': 'bb52b228d37c45109d82601887de3eb9', 'num_lidar_pts': 0, 'num_radar_pts': 0, 'category_name': 'human.pedestrian.adult'}\n",
      "{'token': '430f89fa952e4b4f8fbc94b38c76fa35', 'sample_token': 'f753d3f87e5b40af87ff2cbf7c8e7082', 'instance_token': '06509e54d29547119ed212877c7f310f', 'visibility_token': '4', 'attribute_tokens': [], 'translation': [670.632, 1614.249, 0.526], 'size': [0.501, 0.937, 1.187], 'rotation': [0.2966665842516351, 0.0, 0.0, 0.9549811190743341], 'prev': '9cb1952c13da468cb6121a286aec70af', 'next': 'eceb57993a664e02a07feb5f0ae58e38', 'num_lidar_pts': 8, 'num_radar_pts': 0, 'category_name': 'movable_object.pushable_pullable'}\n",
      "{'token': '46bd16f01ec1462cb1ea080ce20ca5b0', 'sample_token': 'f753d3f87e5b40af87ff2cbf7c8e7082', 'instance_token': 'fa107c6dd0dc4d15b94b86cbf5b990c0', 'visibility_token': '3', 'attribute_tokens': ['ab83627ff28b465b85c427162dec722f'], 'translation': [613.862, 1630.985, 1.754], 'size': [0.751, 1.03, 1.975], 'rotation': [0.3557513515198375, 0.0, 0.0, 0.9345806417275124], 'prev': '3e050c4ab3ae43ddadbcb48f0f10f611', 'next': '29d30545d13f4168a09fe2336928678b', 'num_lidar_pts': 2, 'num_radar_pts': 0, 'category_name': 'human.pedestrian.adult'}\n",
      "{'token': '78fc00fbc8fa4c8ba304d3165d719b92', 'sample_token': 'f753d3f87e5b40af87ff2cbf7c8e7082', 'instance_token': '996d9e039f7a4838ac48d5409ca89732', 'visibility_token': '4', 'attribute_tokens': ['ab83627ff28b465b85c427162dec722f'], 'translation': [623.783, 1623.458, 1.042], 'size': [0.62, 0.695, 1.59], 'rotation': [0.4547834205928039, 0.0, 0.0, 0.8906020662192002], 'prev': 'ebc5a02f9ea64bbd9f3ccc3b84563d35', 'next': 'e7a2e59d57214f48943f11eb5b22a8ff', 'num_lidar_pts': 7, 'num_radar_pts': 2, 'category_name': 'human.pedestrian.adult'}\n",
      "{'token': '6219b96fc54e44e5b3f8e00ff715bdb0', 'sample_token': 'f753d3f87e5b40af87ff2cbf7c8e7082', 'instance_token': 'c6439c068e7045898c3a4ef0a96dea45', 'visibility_token': '4', 'attribute_tokens': ['ab83627ff28b465b85c427162dec722f'], 'translation': [641.358, 1643.658, 1.028], 'size': [0.345, 0.331, 1.326], 'rotation': [0.9986900520911912, 0.0, 0.0, 0.05116815273286535], 'prev': 'bd08f4c8493743389200c96458b1033d', 'next': '9368628e89d449d99839a5237fbe445b', 'num_lidar_pts': 3, 'num_radar_pts': 0, 'category_name': 'human.pedestrian.child'}\n",
      "{'token': '796dac0621fe4cf88acd480ad2bc9397', 'sample_token': 'f753d3f87e5b40af87ff2cbf7c8e7082', 'instance_token': '9e5f09bc19cd473dae219194ada64f3d', 'visibility_token': '1', 'attribute_tokens': ['58aa28b1c2a54dc88e169808c07331e3'], 'translation': [670.811, 1619.896, 0.523], 'size': [1.732, 3.554, 1.683], 'rotation': [0.8729050472260923, 0.0, 0.0, 0.4878901295652676], 'prev': 'e97e9426161b4173b4f62564ac0124c5', 'next': '20f41f34a1b04a03ad305942046371d9', 'num_lidar_pts': 6, 'num_radar_pts': 0, 'category_name': 'vehicle.car'}\n",
      "{'token': 'ef5a0d1e00434708913d048367d36b37', 'sample_token': 'f753d3f87e5b40af87ff2cbf7c8e7082', 'instance_token': 'f1010738ac3a4f56b936fa3a077571b5', 'visibility_token': '4', 'attribute_tokens': ['ab83627ff28b465b85c427162dec722f'], 'translation': [605.55, 1637.092, 2.117], 'size': [0.631, 0.61, 1.929], 'rotation': [0.9533567604354065, 0.0, 0.0, -0.3018458005871657], 'prev': '28da296d492045c382b81a8f666220d9', 'next': 'a7c43eaa330f424ea08234cf72589e9d', 'num_lidar_pts': 2, 'num_radar_pts': 0, 'category_name': 'human.pedestrian.adult'}\n",
      "{'token': '75a97bb9052d4c6eb16892650365a69e', 'sample_token': 'f753d3f87e5b40af87ff2cbf7c8e7082', 'instance_token': '3c7331d16ac6439e9bd5a57d75976446', 'visibility_token': '4', 'attribute_tokens': ['ab83627ff28b465b85c427162dec722f'], 'translation': [656.762, 1619.442, 0.528], 'size': [0.522, 0.519, 1.348], 'rotation': [0.8793911066887535, 0.0, 0.0, -0.47610007506482227], 'prev': '81bd1f414d49433ba395b8a2a344d4a8', 'next': '4f65dce8b6344b4699268cabcd5da672', 'num_lidar_pts': 7, 'num_radar_pts': 0, 'category_name': 'human.pedestrian.child'}\n",
      "{'token': 'ef0ee1f0df7c40ef8f891b42f35e3e99', 'sample_token': 'f753d3f87e5b40af87ff2cbf7c8e7082', 'instance_token': 'a6ca1e8c4eee458cb4981e02f58c954f', 'visibility_token': '1', 'attribute_tokens': ['58aa28b1c2a54dc88e169808c07331e3'], 'translation': [673.5, 1624.825, 0.612], 'size': [1.778, 3.883, 1.697], 'rotation': [0.8592055609265882, 0.0, 0.0, 0.5116305347346138], 'prev': '', 'next': '1b2e0e0f44c349a8bdc195f6e57edb1b', 'num_lidar_pts': 3, 'num_radar_pts': 0, 'category_name': 'vehicle.car'}\n",
      "{'token': '2b5c84ef9b6e417aabc0ee048e3c4ca0', 'sample_token': 'f753d3f87e5b40af87ff2cbf7c8e7082', 'instance_token': 'ead6a822f86c432481c0a9d2e4e4f827', 'visibility_token': '4', 'attribute_tokens': ['ab83627ff28b465b85c427162dec722f'], 'translation': [615.572, 1650.977, 1.896], 'size': [0.697, 0.498, 1.761], 'rotation': [0.24369118456274716, 0.0, 0.0, 0.9698528788256522], 'prev': '2f009793dd694578990c045dc8c77e31', 'next': '343a3dc680ec480ebd3f46edfdc88aed', 'num_lidar_pts': 0, 'num_radar_pts': 1, 'category_name': 'human.pedestrian.adult'}\n",
      "{'token': '67f904347f7c4c77af3f765d0bb5e07a', 'sample_token': 'f753d3f87e5b40af87ff2cbf7c8e7082', 'instance_token': 'dc762bf1bc694d3e8141bf592f9b1456', 'visibility_token': '4', 'attribute_tokens': ['cb5118da1ab342aa947717dc53544259'], 'translation': [658.745, 1609.74, 0.892], 'size': [1.953, 5.03, 1.672], 'rotation': [-0.5877217104284965, 0.0, 0.0, 0.8090631564290902], 'prev': '3237e70dc71646379839f9d4890d7d0e', 'next': '4ae5271520264fc081e9b6b0ed494e20', 'num_lidar_pts': 131, 'num_radar_pts': 5, 'category_name': 'vehicle.car'}\n",
      "{'token': '8ded9158f33845e8937152392c185c0b', 'sample_token': 'f753d3f87e5b40af87ff2cbf7c8e7082', 'instance_token': 'e73ba8faf67d40c8b6b653489393ef8b', 'visibility_token': '4', 'attribute_tokens': ['58aa28b1c2a54dc88e169808c07331e3'], 'translation': [671.514, 1570.587, 1.314], 'size': [1.482, 3.833, 1.692], 'rotation': [0.3372760011177065, 0.0, 0.0, 0.9414058099831596], 'prev': '733ea0c4f7614959b40a1556d3f3891b', 'next': '518f05531e3a42ff9a14f374c114f33a', 'num_lidar_pts': 0, 'num_radar_pts': 0, 'category_name': 'vehicle.car'}\n",
      "{'token': 'ff64d8edc5cb499b9028b0ddd4a8e8af', 'sample_token': 'f753d3f87e5b40af87ff2cbf7c8e7082', 'instance_token': '99fbf1b9bf474215a4e8ad562bb7e9b2', 'visibility_token': '1', 'attribute_tokens': ['ab83627ff28b465b85c427162dec722f'], 'translation': [627.981, 1617.994, 0.963], 'size': [0.665, 0.736, 1.89], 'rotation': [0.9587511350668223, 0.0, 0.0, -0.2842468311311135], 'prev': '16a95164fcdd44e99cf99a93dd13b017', 'next': 'f2924215f98a4e8b82d61823f687548a', 'num_lidar_pts': 1, 'num_radar_pts': 0, 'category_name': 'human.pedestrian.adult'}\n",
      "{'token': 'ef2d2fbf421b4e87b8dd56e6442e694f', 'sample_token': 'f753d3f87e5b40af87ff2cbf7c8e7082', 'instance_token': '200c440c0e9b4627ad4f3047227016a2', 'visibility_token': '4', 'attribute_tokens': ['cb5118da1ab342aa947717dc53544259'], 'translation': [618.223, 1636.034, 1.409], 'size': [1.871, 4.488, 1.515], 'rotation': [0.9464850867080035, 0.0, 0.0, -0.32274754939324196], 'prev': 'eea829803bd84145a07742c875197049', 'next': '68e145b71d4d459e9d89fa980deacae5', 'num_lidar_pts': 17, 'num_radar_pts': 4, 'category_name': 'vehicle.car'}\n",
      "{'token': '8c687ea5c0b24e74925fcc7bd0770ee1', 'sample_token': 'f753d3f87e5b40af87ff2cbf7c8e7082', 'instance_token': '5dd3f11916924b7cb93687c10c7c83b6', 'visibility_token': '4', 'attribute_tokens': ['ab83627ff28b465b85c427162dec722f'], 'translation': [640.507, 1643.568, 1.167], 'size': [0.496, 0.369, 1.656], 'rotation': [0.9918778013721099, 0.0, 0.0, 0.1271944462043425], 'prev': '9432de57952144fbafb28e4e3330f964', 'next': 'e8fbbff09b004a62ace27f536b80c4c2', 'num_lidar_pts': 3, 'num_radar_pts': 0, 'category_name': 'human.pedestrian.adult'}\n",
      "{'token': '78e8712f332f475baef9c6925a2e0aa6', 'sample_token': 'f753d3f87e5b40af87ff2cbf7c8e7082', 'instance_token': '4ce8f37952ad4203b1f5b23c728fb2e6', 'visibility_token': '1', 'attribute_tokens': ['ab83627ff28b465b85c427162dec722f'], 'translation': [668.628, 1610.166, 0.595], 'size': [0.649, 0.874, 1.666], 'rotation': [0.2945323973895042, 0.0, 0.0, 0.9556414949592714], 'prev': '', 'next': '684488c218d340f5bbcdaff86afe1c74', 'num_lidar_pts': 2, 'num_radar_pts': 0, 'category_name': 'human.pedestrian.adult'}\n",
      "{'token': '2c9deea58db742879c21342d4685e0ce', 'sample_token': 'f753d3f87e5b40af87ff2cbf7c8e7082', 'instance_token': '6e71a9ceaf9a4974a1d07a2bd3544506', 'visibility_token': '4', 'attribute_tokens': ['ab83627ff28b465b85c427162dec722f'], 'translation': [623.564, 1621.958, 1.08], 'size': [0.546, 0.439, 1.622], 'rotation': [0.33893497037676207, 0.0, 0.0, 0.94080980323108], 'prev': '4eb1a864acc24ef89aa487d5002cc071', 'next': '6dd8653f1a5944109e117d8b46a221db', 'num_lidar_pts': 2, 'num_radar_pts': 2, 'category_name': 'human.pedestrian.adult'}\n",
      "{'token': 'f4c510b32f3c4a019c164e1bc5d9701b', 'sample_token': 'f753d3f87e5b40af87ff2cbf7c8e7082', 'instance_token': 'dce1fda2d70945c792dcc27074ec6aa9', 'visibility_token': '4', 'attribute_tokens': ['cb5118da1ab342aa947717dc53544259'], 'translation': [662.423, 1618.198, 0.504], 'size': [1.796, 4.329, 1.703], 'rotation': [-0.49893401461612963, 0.0, 0.0, 0.8666399766102598], 'prev': '9f82f39c9e744abe979dbeb4cb239156', 'next': 'be6e3fd4a3b94297b0c94c7c0e0deeea', 'num_lidar_pts': 72, 'num_radar_pts': 2, 'category_name': 'vehicle.car'}\n",
      "{'token': '7350950cdfe24762af65c45181406281', 'sample_token': 'f753d3f87e5b40af87ff2cbf7c8e7082', 'instance_token': '84d4bf98117e477dae6b51bf1bf5c8bb', 'visibility_token': '4', 'attribute_tokens': ['4d8821270b4a47e3a8a300cbec48188e'], 'translation': [640.873, 1643.073, 1.215], 'size': [0.64, 0.395, 1.807], 'rotation': [0.9112308219428524, 0.0, 0.0, 0.41189609022343665], 'prev': '3750ea9c3c104f46ae898c4c01502ffa', 'next': '59c6a5f7a7694e35a2f298126b3ae306', 'num_lidar_pts': 3, 'num_radar_pts': 0, 'category_name': 'human.pedestrian.adult'}\n",
      "{'token': '492dd3a15f894562b56ba7a00b39e47b', 'sample_token': 'f753d3f87e5b40af87ff2cbf7c8e7082', 'instance_token': '34aaf645a4174c6c8ff1874e6b33ccf6', 'visibility_token': '4', 'attribute_tokens': ['ab83627ff28b465b85c427162dec722f'], 'translation': [630.605, 1636.343, 1.124], 'size': [0.612, 0.736, 1.877], 'rotation': [-0.4602617648306197, 0.0, 0.0, 0.8877832549868258], 'prev': 'e833662c5eb64d2580f877fee97117c5', 'next': 'a99ef7b74b354895aa2c60a68b33e333', 'num_lidar_pts': 6, 'num_radar_pts': 3, 'category_name': 'human.pedestrian.adult'}\n",
      "{'token': 'b5be02d305d14d3ca7b4cd5146b99fcb', 'sample_token': 'f753d3f87e5b40af87ff2cbf7c8e7082', 'instance_token': 'f3995943006145ca8a7bc375527f0aba', 'visibility_token': '4', 'attribute_tokens': ['cb5118da1ab342aa947717dc53544259'], 'translation': [610.999, 1644.73, 1.952], 'size': [1.803, 4.495, 1.56], 'rotation': [0.25281243114144647, 0.0, 0.0, 0.9675153097808589], 'prev': 'cf11445013d14ce98d71c50b898e0744', 'next': '105ff35e670f41968158ddec8e48d1c7', 'num_lidar_pts': 1, 'num_radar_pts': 0, 'category_name': 'vehicle.car'}\n",
      "{'token': '45fe900039d4466eaf0a5a1f3e6ab1b1', 'sample_token': 'f753d3f87e5b40af87ff2cbf7c8e7082', 'instance_token': 'd0f5aace57684923b8a44b554b006fb2', 'visibility_token': '4', 'attribute_tokens': ['c3246a1e22a14fcb878aa61e69ae3329'], 'translation': [646.783, 1622.152, 0.709], 'size': [1.928, 4.832, 1.525], 'rotation': [0.3443807657989443, 0.0, 0.0, 0.9388300635086909], 'prev': '45dcbb15dcf74075ba0c3bcf41487186', 'next': 'd9253653d5f2419bbde45f0f99e2bc6c', 'num_lidar_pts': 557, 'num_radar_pts': 1, 'category_name': 'vehicle.car'}\n",
      "{'token': 'f76d9dddadfc4a47adc57c2621083d8a', 'sample_token': 'f753d3f87e5b40af87ff2cbf7c8e7082', 'instance_token': '62cd175b56cf4caa887eaf3462ccde5a', 'visibility_token': '4', 'attribute_tokens': [], 'translation': [647.577, 1603.792, 0.393], 'size': [0.295, 0.305, 0.765], 'rotation': [0.9442643895208108, 0.0, 0.0, -0.32918803544917974], 'prev': '9b2da8e208b04ac1aa5416878cc149e2', 'next': 'c1154384dc8c4a48aa8d6b4898b767fa', 'num_lidar_pts': 1, 'num_radar_pts': 0, 'category_name': 'movable_object.trafficcone'}\n",
      "{'token': '1732edf46e664d258d6c047e18237d2d', 'sample_token': 'f753d3f87e5b40af87ff2cbf7c8e7082', 'instance_token': 'c1fe224b76cc49e294847788c443e470', 'visibility_token': '1', 'attribute_tokens': ['ab83627ff28b465b85c427162dec722f'], 'translation': [668.425, 1609.517, 0.62], 'size': [0.573, 0.65, 1.763], 'rotation': [0.34597786979897427, 0.0, 0.0, 0.9382426730912232], 'prev': '', 'next': 'f566026756df4eca8703d21eda2ef0ff', 'num_lidar_pts': 1, 'num_radar_pts': 0, 'category_name': 'human.pedestrian.adult'}\n",
      "{'token': '4488522d43454dd085d13126b7560545', 'sample_token': 'f753d3f87e5b40af87ff2cbf7c8e7082', 'instance_token': '84755505e70547af890aff9db860f692', 'visibility_token': '1', 'attribute_tokens': ['58aa28b1c2a54dc88e169808c07331e3'], 'translation': [675.917, 1567.003, 1.461], 'size': [1.997, 5.069, 1.998], 'rotation': [0.3372760011177065, 0.0, 0.0, 0.9414058099831596], 'prev': 'f0c155ee1218476e8e937e9c4b2778b1', 'next': '0c9d00a098c349199a24db799da51567', 'num_lidar_pts': 0, 'num_radar_pts': 0, 'category_name': 'vehicle.car'}\n",
      "{'token': 'b60569d75a6449d1aed0031296295194', 'sample_token': 'f753d3f87e5b40af87ff2cbf7c8e7082', 'instance_token': 'b3412553d70f40b3a1d19a0eb8529a08', 'visibility_token': '4', 'attribute_tokens': ['ab83627ff28b465b85c427162dec722f'], 'translation': [657.243, 1619.733, 0.625], 'size': [0.585, 0.681, 1.711], 'rotation': [0.8634527819172991, 0.0, 0.0, -0.5044296714104722], 'prev': '7f6b747e60a2436db4ade80aa0f93543', 'next': '2fe5d90c25e54a5f8978296b3eb56a01', 'num_lidar_pts': 11, 'num_radar_pts': 0, 'category_name': 'human.pedestrian.adult'}\n",
      "{'token': '1bf77b2cec7b435593052cad0182316c', 'sample_token': 'f753d3f87e5b40af87ff2cbf7c8e7082', 'instance_token': '72137291381349428afb1038d4e5898c', 'visibility_token': '4', 'attribute_tokens': ['ab83627ff28b465b85c427162dec722f'], 'translation': [621.742, 1624.637, 1.214], 'size': [0.694, 0.815, 1.794], 'rotation': [0.46316455903236836, 0.0, 0.0, 0.8862723008513533], 'prev': 'b73d145dba9145689b3ff2621c381fe4', 'next': '8db6abbc78394cb3aea7ee03fb8f47b8', 'num_lidar_pts': 5, 'num_radar_pts': 4, 'category_name': 'human.pedestrian.adult'}\n",
      "{'token': '135bbe9c408f42dc8731b501122e9973', 'sample_token': 'f753d3f87e5b40af87ff2cbf7c8e7082', 'instance_token': 'ad2ae385245f46d49b4d06f87e2ac544', 'visibility_token': '4', 'attribute_tokens': ['ab83627ff28b465b85c427162dec722f'], 'translation': [625.567, 1621.844, 0.951], 'size': [0.547, 0.587, 1.59], 'rotation': [0.3222822172597067, 0.0, 0.0, 0.9466436353972741], 'prev': '0e9b314c6a1f41189116b67fb257d8ba', 'next': '39a6dfcd76314091b111a68ec9d4693f', 'num_lidar_pts': 7, 'num_radar_pts': 2, 'category_name': 'human.pedestrian.adult'}\n",
      "{'token': 'cba37be4f22346ef9e7a24cbdcdf4976', 'sample_token': 'f753d3f87e5b40af87ff2cbf7c8e7082', 'instance_token': '06ff24b7f1e8479b934f1b74348028bc', 'visibility_token': '4', 'attribute_tokens': ['58aa28b1c2a54dc88e169808c07331e3'], 'translation': [674.05, 1581.655, 0.983], 'size': [1.604, 3.484, 1.58], 'rotation': [0.9309793758296149, 0.0, 0.0, -0.3650717762028459], 'prev': '3a3deedc2cea4a489d3676f6b4680453', 'next': '053903322ee74d78b4e088e11050e484', 'num_lidar_pts': 8, 'num_radar_pts': 0, 'category_name': 'vehicle.car'}\n",
      "{'token': 'ef7274e015f2400597efa7e4c4887c28', 'sample_token': 'f753d3f87e5b40af87ff2cbf7c8e7082', 'instance_token': 'eaaf60765ee8478f8e0bd4942571c6fb', 'visibility_token': '1', 'attribute_tokens': ['58aa28b1c2a54dc88e169808c07331e3'], 'translation': [670.315, 1604.288, 0.537], 'size': [1.826, 4.695, 1.629], 'rotation': [0.3532544251654445, 0.0, 0.0, 0.9355272904095483], 'prev': '7c29aa55ea8a40d1bead8b1195ec398f', 'next': '31aecb5b21404d069c80c7c91785efa1', 'num_lidar_pts': 1, 'num_radar_pts': 1, 'category_name': 'vehicle.car'}\n",
      "{'token': 'f89a16a67f65408a92c70fa802bc067b', 'sample_token': 'f753d3f87e5b40af87ff2cbf7c8e7082', 'instance_token': 'bfe685042aa34ab7b2b2f24ee0f1645f', 'visibility_token': '1', 'attribute_tokens': [], 'translation': [683.681, 1592.002, 0.794], 'size': [1.641, 14.465, 1.4], 'rotation': [0.3473693995546558, 0.0, 0.0, 0.9377283723195315], 'prev': 'd2377970f6d3443fb5e2edc11720f8c6', 'next': '5a3271674e344f278686b08a7bc1b78f', 'num_lidar_pts': 1, 'num_radar_pts': 0, 'category_name': 'static_object.bicycle_rack'}\n",
      "{'token': 'b45238cb1fb94eabb50a19bcccbc8f2d', 'sample_token': 'f753d3f87e5b40af87ff2cbf7c8e7082', 'instance_token': 'ff7dc6c94901476e9b5f6198e3b2103f', 'visibility_token': '4', 'attribute_tokens': ['ab83627ff28b465b85c427162dec722f'], 'translation': [605.404, 1636.542, 2.143], 'size': [0.712, 0.601, 1.891], 'rotation': [0.9540130164747005, 0.0, 0.0, -0.2997651820956578], 'prev': '5d063c08b177410c905858c1411e0640', 'next': '26314a0f1f094759877661d18d809e78', 'num_lidar_pts': 2, 'num_radar_pts': 0, 'category_name': 'human.pedestrian.adult'}\n",
      "{'token': 'b57c75957e044737b880ece4afc4b73b', 'sample_token': 'f753d3f87e5b40af87ff2cbf7c8e7082', 'instance_token': '3620feb00d744241a94855f3a8913a78', 'visibility_token': '4', 'attribute_tokens': ['58aa28b1c2a54dc88e169808c07331e3'], 'translation': [650.873, 1603.16, 0.668], 'size': [1.889, 4.76, 1.531], 'rotation': [0.9436710861123228, 0.0, 0.0, -0.33088499699380314], 'prev': 'b08eaba343c8478388b762c276038a77', 'next': '9ec3571c1fd84146aaa20012ad284f1d', 'num_lidar_pts': 131, 'num_radar_pts': 2, 'category_name': 'vehicle.car'}\n",
      "{'token': '4d6aa69d243546859c9cd3081c2ca101', 'sample_token': 'f753d3f87e5b40af87ff2cbf7c8e7082', 'instance_token': '5d77c275683248658e7564ef24bf63b2', 'visibility_token': '4', 'attribute_tokens': ['ab83627ff28b465b85c427162dec722f'], 'translation': [624.771, 1621.216, 1.151], 'size': [0.538, 0.674, 1.794], 'rotation': [0.37605446158670225, 0.0, 0.0, 0.926597562008845], 'prev': 'bff8170575c24b5d8714061f5349892b', 'next': 'f9328353f3394e2bafc4f486c652b565', 'num_lidar_pts': 9, 'num_radar_pts': 0, 'category_name': 'human.pedestrian.adult'}\n",
      "{'token': '81af38b8103448d3b93d63a777bead82', 'sample_token': 'f753d3f87e5b40af87ff2cbf7c8e7082', 'instance_token': '6346de1c47584b34833d6df500d2ed6c', 'visibility_token': '2', 'attribute_tokens': ['c3246a1e22a14fcb878aa61e69ae3329'], 'translation': [665.645, 1621.923, 0.597], 'size': [1.628, 3.896, 1.726], 'rotation': [-0.49893401461612963, 0.0, 0.0, 0.8666399766102598], 'prev': '5fa0c147ad5c46cd8c7f2e2b5a181012', 'next': '2c072ac1316445ca972d229c3a771058', 'num_lidar_pts': 20, 'num_radar_pts': 1, 'category_name': 'vehicle.car'}\n",
      "{'token': 'fdeebd20d1394ff0bea09f662ce1463c', 'sample_token': 'f753d3f87e5b40af87ff2cbf7c8e7082', 'instance_token': 'e147a4c07e06487592fb5d6135c27a78', 'visibility_token': '4', 'attribute_tokens': ['ab83627ff28b465b85c427162dec722f'], 'translation': [646.844, 1600.631, 0.928], 'size': [0.724, 0.828, 1.835], 'rotation': [0.9401335708650043, 0.0, 0.0, -0.34080620436344183], 'prev': '5ef7068f539f44f38425fcf83d36a204', 'next': 'cf7c4af9efd942d1a14ca86615bf6ab8', 'num_lidar_pts': 24, 'num_radar_pts': 0, 'category_name': 'human.pedestrian.adult'}\n",
      "{'token': '195afc0f147d4dbfa9c21239df0d2307', 'sample_token': 'f753d3f87e5b40af87ff2cbf7c8e7082', 'instance_token': '0809d64df9264121bead0772ee9b5984', 'visibility_token': '1', 'attribute_tokens': ['ab83627ff28b465b85c427162dec722f'], 'translation': [661.273, 1588.544, 0.883], 'size': [0.56, 0.698, 1.744], 'rotation': [0.9350114818128026, 0.0, 0.0, -0.3546174401777599], 'prev': '89edeac56671453a8e057775575faa6b', 'next': 'a7144e9d584847abbd93e69c6169b94b', 'num_lidar_pts': 2, 'num_radar_pts': 0, 'category_name': 'human.pedestrian.adult'}\n",
      "{'token': '081c19290123437ba6a3617344bbb55d', 'sample_token': 'f753d3f87e5b40af87ff2cbf7c8e7082', 'instance_token': 'fef3f0c1f8f944e393315c5460263f17', 'visibility_token': '1', 'attribute_tokens': ['03aa62109bf043afafdea7d875dd4f43'], 'translation': [632.059, 1644.584, 0.732], 'size': [0.738, 0.783, 1.52], 'rotation': [0.8805848980472477, 0.0, 0.0, 0.47388842287095206], 'prev': 'c97be344ac4143ffa69b0b5ed22f31c2', 'next': '8b33c8dafa3b43519cea2df6ff1ea8fc', 'num_lidar_pts': 3, 'num_radar_pts': 0, 'category_name': 'human.pedestrian.adult'}\n",
      "{'token': 'c7ab79a004d64e3faf3e191f3dbd42b0', 'sample_token': 'f753d3f87e5b40af87ff2cbf7c8e7082', 'instance_token': '9439a24131dc4e1faa3b5b73f518f1da', 'visibility_token': '3', 'attribute_tokens': ['58aa28b1c2a54dc88e169808c07331e3'], 'translation': [695.264, 1581.776, 1.517], 'size': [2.509, 6.512, 3.024], 'rotation': [0.3624217716133739, 0.0, 0.0, 0.9320141948815068], 'prev': 'a80cde9b9f64475e8f7af6ee27a8d9ff', 'next': '0368fcf14f544a4ea15799d28615710c', 'num_lidar_pts': 1, 'num_radar_pts': 0, 'category_name': 'vehicle.truck'}\n",
      "{'token': 'cf9d63e192df45a5b448e9466e246853', 'sample_token': 'f753d3f87e5b40af87ff2cbf7c8e7082', 'instance_token': '0bfc7d407d09490cba7ac57897fcb100', 'visibility_token': '1', 'attribute_tokens': ['58aa28b1c2a54dc88e169808c07331e3'], 'translation': [659.443, 1585.268, 1.086], 'size': [1.722, 4.178, 1.673], 'rotation': [0.9400562201711631, 0.0, 0.0, -0.34101950518629526], 'prev': '2e13f6bc8f5549ed8a068a835254751a', 'next': '9dd7c2453b034d06a6b7a460baffd336', 'num_lidar_pts': 1, 'num_radar_pts': 0, 'category_name': 'vehicle.car'}\n",
      "{'token': '9aa2f2314cac49c0b0bf58d367d99427', 'sample_token': 'f753d3f87e5b40af87ff2cbf7c8e7082', 'instance_token': '045cd82a77a1472499e8c15100cb5ff3', 'visibility_token': '4', 'attribute_tokens': ['cb5118da1ab342aa947717dc53544259'], 'translation': [664.921, 1602.517, 0.796], 'size': [1.762, 4.701, 1.539], 'rotation': [0.36493365863177013, 0.0, 0.0, 0.9310335250664342], 'prev': '57ebeab5279d49638de6aae14b3f9179', 'next': '24cfb27afe714f0bafb098c0d6ecc5dd', 'num_lidar_pts': 26, 'num_radar_pts': 1, 'category_name': 'vehicle.car'}\n",
      "{'token': '0af15fef1ea54711846a22c13ab87a73', 'sample_token': 'f753d3f87e5b40af87ff2cbf7c8e7082', 'instance_token': 'bc6bc2b076b24fc79ed0517f5747c1cf', 'visibility_token': '4', 'attribute_tokens': ['ab83627ff28b465b85c427162dec722f'], 'translation': [631.763, 1641.575, 1.389], 'size': [0.699, 0.738, 1.95], 'rotation': [0.27494942071572104, 0.0, 0.0, 0.9614586918053679], 'prev': '84b1b1dde33e44bea0d99dc3094fd49a', 'next': '40510ce822614183a46ea070927b1c35', 'num_lidar_pts': 5, 'num_radar_pts': 1, 'category_name': 'human.pedestrian.adult'}\n",
      "{'token': 'c6f9442d527545d5baf16da61fafbe67', 'sample_token': 'f753d3f87e5b40af87ff2cbf7c8e7082', 'instance_token': '48d06a263b314b48bd41343ea5f5d158', 'visibility_token': '1', 'attribute_tokens': ['58aa28b1c2a54dc88e169808c07331e3'], 'translation': [704.035, 1555.45, 1.305], 'size': [1.63, 3.871, 1.955], 'rotation': [0.9372089641784491, 0.0, 0.0, -0.3487683435513586], 'prev': 'd0ad3e8d9cbc4226802c092e67292276', 'next': 'e6582b27b03a431ca8bf7b79e68b73c5', 'num_lidar_pts': 1, 'num_radar_pts': 0, 'category_name': 'vehicle.car'}\n",
      "{'token': 'e028b0d2548b4c5897d97e6378553a27', 'sample_token': 'f753d3f87e5b40af87ff2cbf7c8e7082', 'instance_token': 'c34cb46c7be6486a85ee49653850b174', 'visibility_token': '3', 'attribute_tokens': ['ab83627ff28b465b85c427162dec722f'], 'translation': [628.89, 1616.932, 1.011], 'size': [0.644, 0.696, 1.849], 'rotation': [0.9473193400751013, 0.0, 0.0, -0.32029059917467856], 'prev': '35554cb14ca24e298df914027aa80325', 'next': 'ceafccaa033c4e649bed4ff5318dae51', 'num_lidar_pts': 6, 'num_radar_pts': 0, 'category_name': 'human.pedestrian.adult'}\n",
      "{'token': '606d1151c08045698001350dfc5ac079', 'sample_token': 'f753d3f87e5b40af87ff2cbf7c8e7082', 'instance_token': '09810748e6c04aacb393ebf14fafa5e8', 'visibility_token': '3', 'attribute_tokens': ['ab83627ff28b465b85c427162dec722f'], 'translation': [651.981, 1597.082, 0.61], 'size': [0.666, 0.78, 1.8], 'rotation': [0.3243467047437147, 0.0, 0.0, 0.945938272363421], 'prev': 'c768f5397e7149e59e9b0a39ac48ed3c', 'next': '68e1a96034c34f7ebb638f6962aec09b', 'num_lidar_pts': 5, 'num_radar_pts': 0, 'category_name': 'human.pedestrian.adult'}\n",
      "{'token': 'e9f3b0180d974d73b80a5ab0c8756f7c', 'sample_token': 'f753d3f87e5b40af87ff2cbf7c8e7082', 'instance_token': '2ef4b4d20b064d34b754f68e48f5a5c2', 'visibility_token': '2', 'attribute_tokens': ['58aa28b1c2a54dc88e169808c07331e3'], 'translation': [675.162, 1599.796, 0.97], 'size': [1.917, 4.787, 1.96], 'rotation': [0.36952782531086337, 0.0, 0.0, 0.9292196652681346], 'prev': '22167351d18540ee8afba93042716f29', 'next': 'e0152fbc04824fa4875b72c8c24bf2c4', 'num_lidar_pts': 4, 'num_radar_pts': 2, 'category_name': 'vehicle.car'}\n"
     ]
    }
   ],
   "source": [
    "for annotation_token in sample['anns']:\n",
    "    anntn = nusc.get('sample_annotation', annotation_token)\n",
    "    print(anntn)\n"
   ]
  },
  {
   "cell_type": "code",
   "execution_count": null,
   "metadata": {},
   "outputs": [],
   "source": [
    "sd_record = nusc.get('sample_data', sample['data']['LIDAR_TOP'])\n",
    "sd_record['filename']"
   ]
  },
  {
   "cell_type": "code",
   "execution_count": null,
   "metadata": {},
   "outputs": [],
   "source": [
    "nusc.get('ego_pose', sd_record['ego_pose_token'])"
   ]
  },
  {
   "cell_type": "code",
   "execution_count": null,
   "metadata": {},
   "outputs": [],
   "source": [
    "from pyquaternion import Quaternion\n",
    "sd_record = nusc.get('sample_data', sample['data']['LIDAR_TOP'])\n",
    "pose = nusc.get('ego_pose', sd_record['ego_pose_token'])\n",
    "q = Quaternion(pose['rotation'])"
   ]
  },
  {
   "cell_type": "code",
   "execution_count": null,
   "metadata": {},
   "outputs": [],
   "source": [
    "import math\n",
    "math.atan2(pose['translation'][1], pose['translation'][0])"
   ]
  },
  {
   "cell_type": "code",
   "execution_count": null,
   "metadata": {},
   "outputs": [],
   "source": [
    "q.yaw_pitch_roll\n",
    "\n",
    "psi = q.yaw_pitch_roll[0]\n",
    "\n",
    "psi/np.pi * 180"
   ]
  },
  {
   "cell_type": "code",
   "execution_count": null,
   "metadata": {},
   "outputs": [],
   "source": [
    "from nuscenes.eval.common.utils import quaternion_yaw\n",
    "# PREFER THIS\n",
    "rotation = Quaternion(pose['rotation'])\n",
    "yaw = quaternion_yaw(rotation) / np.pi * 180\n",
    "\n",
    "yaw"
   ]
  },
  {
   "cell_type": "code",
   "execution_count": null,
   "metadata": {},
   "outputs": [],
   "source": [
    "import random\n",
    "\n",
    "sample = \"b5989651183643369174912bc5641d3b\"\n",
    "sample = nusc.get('sample', sample)\n",
    "\n",
    "nuscenes_render.render_sample_data_with_predictions(sample[\"data\"][\"LIDAR_TOP\"], nusc=nusc)\n",
    "\n",
    "# Figure out the coordinate frame\n",
    "# Plot the yaw on the map below"
   ]
  },
  {
   "cell_type": "code",
   "execution_count": null,
   "metadata": {},
   "outputs": [],
   "source": [
    "# nusc.render_sample(\"b5989651183643369174912bc5641d3b\")"
   ]
  },
  {
   "cell_type": "code",
   "execution_count": null,
   "metadata": {},
   "outputs": [],
   "source": [
    "scene = nusc.scene[0]\n",
    "scene"
   ]
  },
  {
   "cell_type": "code",
   "execution_count": null,
   "metadata": {},
   "outputs": [],
   "source": [
    "def get_ego_pose(token):\n",
    "    for ego_pose in nusc.ego_pose:\n",
    "        if ego_pose['token'] == token:\n",
    "            return ego_pose\n",
    "    print(\"Ego pose not found for token\", token)\n",
    "        \n",
    "get_ego_pose(sample['token'])"
   ]
  },
  {
   "cell_type": "code",
   "execution_count": null,
   "metadata": {},
   "outputs": [],
   "source": [
    "sample = \"b5989651183643369174912bc5641d3b\"\n",
    "sample = nusc.get('sample', sample)\n",
    "\n",
    "a, boxes, b = nusc.get_sample_data(sample[\"data\"][\"LIDAR_TOP\"], \n",
    "                     box_vis_level=BoxVisibility.ANY,\n",
    "                     use_flat_vehicle_coordinates=True)\n",
    "\n",
    "np.degrees(np.arctan2(boxes[0].center[1], boxes[0].center[0]))"
   ]
  },
  {
   "cell_type": "code",
   "execution_count": null,
   "metadata": {},
   "outputs": [],
   "source": [
    "nusc.get('ego_pose', nusc.get('sample', sample['token'])['ego_pose_token'])"
   ]
  },
  {
   "cell_type": "code",
   "execution_count": null,
   "metadata": {},
   "outputs": [],
   "source": [
    "np.array(boxes[0].center[:2])"
   ]
  },
  {
   "cell_type": "code",
   "execution_count": null,
   "metadata": {},
   "outputs": [],
   "source": [
    "from cluster import RadiusBand\n",
    "\n",
    "r = RadiusBand(\n",
    "                 sample_token = \"a\",\n",
    "                 gt_boxes=[], \n",
    "                 ego_veh:{},\n",
    "                 radius_band:(0, 11),\n",
    "                 max_distance_bw_obj:10)"
   ]
  }
 ],
 "metadata": {
  "kernelspec": {
   "display_name": "detection",
   "language": "python",
   "name": "python3"
  },
  "language_info": {
   "codemirror_mode": {
    "name": "ipython",
    "version": 3
   },
   "file_extension": ".py",
   "mimetype": "text/x-python",
   "name": "python",
   "nbconvert_exporter": "python",
   "pygments_lexer": "ipython3",
   "version": "3.8.18"
  }
 },
 "nbformat": 4,
 "nbformat_minor": 2
}
