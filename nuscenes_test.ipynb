{
 "cells": [
  {
   "cell_type": "code",
   "execution_count": null,
   "metadata": {},
   "outputs": [],
   "source": [
    "import os\n",
    "import subprocess\n",
    "from pathlib import Path\n",
    "import torch\n",
    "from mmdet3d.evaluation.metrics import nuscenes_metric as nus_metric\n",
    "from mmdet3d.evaluation.metrics.nuscenes_metric import output_to_nusc_box\n",
    "import json \n",
    "from pyquaternion import Quaternion\n",
    "from nuscenes.utils.data_classes import Box\n",
    "from nuscenes.utils.geometry_utils import transform_matrix\n",
    "import operator\n",
    "from functools import reduce\n",
    "from pathlib import Path\n",
    "import numpy as np\n",
    "from nuscenes.nuscenes import NuScenes\n",
    "from nuscenes.eval.detection.config import config_factory\n",
    "from nuscenes.eval.detection.evaluate import NuScenesEval\n",
    "from nuscenes.utils.data_classes import RadarPointCloud\n",
    "from classes import cls_attr_dist, class_names, mini_val_tokens\n",
    "from custom_env import home_dir, output_dir, preds_dir, model_dir, is_set_to_mini\n",
    "from custom_env import dataset_root as dataroot\n",
    "from nuscenes.utils.geometry_utils import view_points, box_in_image, BoxVisibility\n",
    "\n",
    "import nuscenes_render"
   ]
  },
  {
   "cell_type": "code",
   "execution_count": null,
   "metadata": {},
   "outputs": [],
   "source": [
    "eval_set_map = {\n",
    "        'v1.0-mini': 'mini_val',\n",
    "        'v1.0-trainval': 'val',\n",
    "        'v1.0-test': 'test'\n",
    "    }\n",
    "\n",
    "dataset_version = 'v1.0-mini' if is_set_to_mini() else 'v1.0-trainval'\n",
    "try:\n",
    "    eval_version = 'detection_cvpr_2019'\n",
    "    eval_config = config_factory(eval_version)\n",
    "except:\n",
    "    eval_version = 'cvpr_2019'\n",
    "    eval_config = config_factory(eval_version)\n",
    "    \n",
    "\n",
    "DETECTION_THRESHOLD = 0.35\n",
    "\n",
    "backend_args = None\n",
    "nusc = NuScenes(version=dataset_version, dataroot = dataroot)\n",
    "ann_file = f'{dataroot}nuscenes_infos_val.pkl'\n",
    "metric='bbox'\n",
    "\n",
    "pcd_path = f\"{dataroot}/samples/LIDAR_TOP/\"\n",
    "mmdet_path = f\"{home_dir}/software/mmdetection3d\"\n",
    "pcd_list = os.listdir(pcd_path)"
   ]
  },
  {
   "cell_type": "code",
   "execution_count": null,
   "metadata": {},
   "outputs": [],
   "source": [
    "def __load_ego_veh(self, sample_token:str):\n",
    "    sample = nusc.get('sample', sample_token)\n",
    "    sd_record = nusc.get('sample_data', sample['data']['LIDAR_TOP'])\n",
    "    return nusc.get('ego_pose', sd_record['ego_pose_token'])\n",
    "\n",
    "print(__load_ego_veh(nusc, \"b5989651183643369174912bc5641d3b\"))"
   ]
  },
  {
   "cell_type": "code",
   "execution_count": null,
   "metadata": {},
   "outputs": [],
   "source": [
    "import random\n",
    "\n",
    "sample = \"b5989651183643369174912bc5641d3b\"\n",
    "sample = nusc.get('sample', sample)"
   ]
  },
  {
   "cell_type": "code",
   "execution_count": null,
   "metadata": {},
   "outputs": [],
   "source": [
    "# sd_record = nusc.get('sample', sample['data'])\n",
    "# sd_record\n",
    "for token in sample['data']:\n",
    "    sd_record = nusc.get('sample_data', sample['data'][token])\n",
    "    print(sd_record['filename'])\n"
   ]
  },
  {
   "cell_type": "code",
   "execution_count": null,
   "metadata": {},
   "outputs": [],
   "source": [
    "sd_record = nusc.get('sample_data', sample['data']['LIDAR_TOP'])\n",
    "sd_record['filename']"
   ]
  },
  {
   "cell_type": "code",
   "execution_count": null,
   "metadata": {},
   "outputs": [],
   "source": [
    "nusc.get('ego_pose', sd_record['ego_pose_token'])"
   ]
  },
  {
   "cell_type": "code",
   "execution_count": null,
   "metadata": {},
   "outputs": [],
   "source": [
    "from pyquaternion import Quaternion\n",
    "sd_record = nusc.get('sample_data', sample['data']['LIDAR_TOP'])\n",
    "pose = nusc.get('ego_pose', sd_record['ego_pose_token'])\n",
    "q = Quaternion(pose['rotation'])"
   ]
  },
  {
   "cell_type": "code",
   "execution_count": null,
   "metadata": {},
   "outputs": [],
   "source": [
    "import math\n",
    "math.atan2(pose['translation'][1], pose['translation'][0])"
   ]
  },
  {
   "cell_type": "code",
   "execution_count": null,
   "metadata": {},
   "outputs": [],
   "source": [
    "q.yaw_pitch_roll\n",
    "\n",
    "psi = q.yaw_pitch_roll[0]\n",
    "\n",
    "psi/np.pi * 180"
   ]
  },
  {
   "cell_type": "code",
   "execution_count": null,
   "metadata": {},
   "outputs": [],
   "source": [
    "from nuscenes.eval.common.utils import quaternion_yaw\n",
    "# PREFER THIS\n",
    "rotation = Quaternion(pose['rotation'])\n",
    "yaw = quaternion_yaw(rotation) / np.pi * 180\n",
    "\n",
    "yaw"
   ]
  },
  {
   "cell_type": "code",
   "execution_count": null,
   "metadata": {},
   "outputs": [],
   "source": [
    "import random\n",
    "\n",
    "sample = \"b5989651183643369174912bc5641d3b\"\n",
    "sample = nusc.get('sample', sample)\n",
    "\n",
    "nuscenes_render.render_sample_data_with_predictions(sample[\"data\"][\"LIDAR_TOP\"], nusc=nusc)\n",
    "\n",
    "# Figure out the coordinate frame\n",
    "# Plot the yaw on the map below"
   ]
  },
  {
   "cell_type": "code",
   "execution_count": null,
   "metadata": {},
   "outputs": [],
   "source": [
    "# nusc.render_sample(\"b5989651183643369174912bc5641d3b\")"
   ]
  },
  {
   "cell_type": "code",
   "execution_count": null,
   "metadata": {},
   "outputs": [],
   "source": [
    "scene = nusc.scene[0]\n",
    "scene"
   ]
  },
  {
   "cell_type": "code",
   "execution_count": null,
   "metadata": {},
   "outputs": [],
   "source": [
    "def get_ego_pose(token):\n",
    "    for ego_pose in nusc.ego_pose:\n",
    "        if ego_pose['token'] == token:\n",
    "            return ego_pose\n",
    "    print(\"Ego pose not found for token\", token)\n",
    "        \n",
    "get_ego_pose(sample['token'])"
   ]
  },
  {
   "cell_type": "code",
   "execution_count": null,
   "metadata": {},
   "outputs": [],
   "source": [
    "sample = \"b5989651183643369174912bc5641d3b\"\n",
    "sample = nusc.get('sample', sample)\n",
    "\n",
    "a, boxes, b = nusc.get_sample_data(sample[\"data\"][\"LIDAR_TOP\"], \n",
    "                     box_vis_level=BoxVisibility.ANY,\n",
    "                     use_flat_vehicle_coordinates=True)\n",
    "\n",
    "np.degrees(np.arctan2(boxes[0].center[1], boxes[0].center[0]))"
   ]
  },
  {
   "cell_type": "code",
   "execution_count": null,
   "metadata": {},
   "outputs": [],
   "source": [
    "nusc.get('ego_pose', nusc.get('sample', sample['token'])['ego_pose_token'])"
   ]
  },
  {
   "cell_type": "code",
   "execution_count": null,
   "metadata": {},
   "outputs": [],
   "source": [
    "np.array(boxes[0].center[:2])"
   ]
  },
  {
   "cell_type": "code",
   "execution_count": null,
   "metadata": {},
   "outputs": [
    {
     "ename": "SyntaxError",
     "evalue": "invalid syntax (4260365361.py, line 6)",
     "output_type": "error",
     "traceback": [
      "\u001b[0;36m  Cell \u001b[0;32mIn[2], line 6\u001b[0;36m\u001b[0m\n\u001b[0;31m    ego_veh:{},\u001b[0m\n\u001b[0m           ^\u001b[0m\n\u001b[0;31mSyntaxError\u001b[0m\u001b[0;31m:\u001b[0m invalid syntax\n"
     ]
    }
   ],
   "source": [
    "from cluster import RadiusBand\n",
    "\n",
    "r = RadiusBand(\n",
    "                 sample_token = \"a\",\n",
    "                 gt_boxes=[], \n",
    "                 ego_veh:{},\n",
    "                 radius_band:(0, 11),\n",
    "                 max_distance_bw_obj:10)"
   ]
  }
 ],
 "metadata": {
  "kernelspec": {
   "display_name": "detection",
   "language": "python",
   "name": "python3"
  },
  "language_info": {
   "codemirror_mode": {
    "name": "ipython",
    "version": 3
   },
   "file_extension": ".py",
   "mimetype": "text/x-python",
   "name": "python",
   "nbconvert_exporter": "python",
   "pygments_lexer": "ipython3",
   "version": "3.8.18"
  }
 },
 "nbformat": 4,
 "nbformat_minor": 2
}
