{
 "cells": [
  {
   "attachments": {},
   "cell_type": "markdown",
   "metadata": {},
   "source": [
    "# Repository Demo\n",
    "\n"
   ]
  },
  {
   "attachments": {},
   "cell_type": "markdown",
   "metadata": {},
   "source": [
    "Here is a flowchart for the actions that the tool takes.\n",
    "\n",
    "Each of the following blocks are described in more detail through this notebook. Feel free to change parameters and experiment!"
   ]
  },
  {
   "attachments": {},
   "cell_type": "markdown",
   "metadata": {},
   "source": [
    "<p align=\"center\">\n",
    "  <img src=\"figures/flowchart_vertical.png\" />\n",
    "</p>"
   ]
  },
  {
   "attachments": {},
   "cell_type": "markdown",
   "metadata": {},
   "source": [
    "# 1. Getting Started"
   ]
  },
  {
   "attachments": {},
   "cell_type": "markdown",
   "metadata": {},
   "source": [
    "## 1.1 Ensure setup is accurate"
   ]
  },
  {
   "attachments": {},
   "cell_type": "markdown",
   "metadata": {},
   "source": [
    "### 1.1.1 System Requirements for TRELPy\n",
    "- OS: Ubuntu (Has been tested to work on Ubuntu 20.04)\n",
    "- Computer with GPU to run inference\n",
    "\n",
    "\n",
    "### 1.1.2. Uncomment and run the following scripts to install all the pip and apt dependencies\n",
    "```bash\n",
    "pip3 install -r pip-requirements.txt &&\n",
    "sudo apt-get -y update &&\n",
    "sed 's/#.*//' apt-requirements.txt | xargs sudo apt-get -y install\n",
    "```\n",
    "\n",
    "\n",
    "### 1.1.3. Ensure all the following programs are installed.\n",
    "\n",
    "|Name and link of program|What kind of installation| Versions tested on |\n",
    "|-|-|-|\n",
    "| [CUDA](https://docs.nvidia.com/cuda/cuda-installation-guide-linux/index.html) | Local, Docker | cuda_12.4.r12.4 |\n",
    "| [STORM](https://www.stormchecker.org/documentation/obtain-storm/build.html) | Local | - |\n",
    "| [PyTorch](https://pytorch.org/get-started/locally/) | Local | 2.1.0+cu12 |\n",
    "| [StormPy](https://moves-rwth.github.io/stormpy/installation.html) | Local |  |\n",
    "| [TuLiP](https://github.com/tulip-control/tulip-control) |  Local |  |\n",
    "| [MMDetection3D](https://mmdetection3d.readthedocs.io/en/latest/get_started.html) | Local |  |\n",
    "| [NVIDIA Container Toolkit](https://docs.nvidia.com/datacenter/cloud-native/container-toolkit/latest/install-guide.html) | Local, Docker | 1.14.6 |\n",
    "| [PRISM (Optional)](https://www.prismmodelchecker.org/manual/InstallingPRISM/Instructions) | Local |  |\n",
    "\n",
    "**Local** means you are running on your ubuntu installation \\\n",
    "**Docker** means you will be using the provided Dockerfile. *This is currently a work in progress and not completely setup.*"
   ]
  },
  {
   "attachments": {},
   "cell_type": "markdown",
   "metadata": {},
   "source": [
    "### 1.1.4 Testing installation validity"
   ]
  },
  {
   "cell_type": "code",
   "execution_count": 1,
   "metadata": {},
   "outputs": [
    {
     "name": "stdout",
     "output_type": "stream",
     "text": [
      "Not creating /home/ranai/nuscenes_dataset/3D_Detection/saved_cms/lidar/mini/model2_good because it already exists\n"
     ]
    }
   ],
   "source": [
    "import os\n",
    "import sys\n",
    "import subprocess\n",
    "import numpy as np\n",
    "import pickle as pkl\n",
    "from pathlib import Path\n",
    "from datetime import datetime\n",
    "from pyquaternion import Quaternion\n",
    "from itertools import chain, combinations\n",
    "from typing import Tuple, Dict, Any, List\n",
    "from confusion_matrix import ConfusionMatrix\n",
    "from generate_confusion_matrix import GenerateConfusionMatrix\n",
    "\n",
    "import torch\n",
    "\n",
    "from nuscenes import NuScenes\n",
    "from nuscenes.eval.common.config import config_factory\n",
    "from nuscenes.eval.common.data_classes import EvalBoxes"
   ]
  },
  {
   "attachments": {},
   "cell_type": "markdown",
   "metadata": {},
   "source": [
    "## 1.2. Setting up datasets\n",
    "\n",
    "The NuScenes dataset can be downloaded from [this link after logging in](https://www.nuscenes.org/nuscenes#download:~:text=Show%20more%20%E2%86%93-,Downloads,-Here%20we%20list). \\\n",
    "Instructions for setting up nuscenes for working with MMDetection3D can be found at [MMDetection3D Dataset Preperation](https://mmdetection3d.readthedocs.io/en/latest/user_guides/dataset_prepare.html)"
   ]
  },
  {
   "attachments": {},
   "cell_type": "markdown",
   "metadata": {},
   "source": [
    "## 1.3. Getting setup for running inference\n",
    "\n",
    "In this step, you will download and install a model so that you can begin running inference on the dataset you downloaded. \\\n",
    "\\\n",
    "**Config File** is a python file that contains parameters such as batch size, list of classes, indices, input size, etc.   \n",
    "**Checkpoint File** is a `.pth` file which contains a the exact values of all parameters (weights, current learning rate, etc.) and stores all of this in non-volatile memory.\n",
    "\n",
    "| Model Name | Modality |Link to Checkpoint file | Link to Config file | mAP (%) | Accuracy (%) | Link to paper |\n",
    "|-|-|-|-|-|-|-|\n",
    "|NuScenes SECFPN|Lidar|[Backbone file](https://download.openmmlab.com/mmdetection3d/v1.0.0_models/pointpillars/hv_pointpillars_secfpn_sbn-all_4x8_2x_nus-3d/hv_pointpillars_secfpn_sbn-all_4x8_2x_nus-3d_20210826_225857-f19d00a3.pth)|[Config File](https://github.com/open-mmlab/mmdetection3d/blob/main/configs/pointpillars/pointpillars_hv_secfpn_sbn-all_8xb4-2x_nus-3d.py)|34.33|49.1|[PointPillars](https://arxiv.org/abs/1812.05784)|\n",
    "|NuScenes SECFPN(FP16)|Lidar|[Backbone file](https://github.com/open-mmlab/mmdetection3d/blob/main/configs/pointpillars/pointpillars_hv_secfpn_sbn-all_8xb2-amp-2x_nus-3d.py)|[Config file](https://download.openmmlab.com/mmdetection3d/v0.1.0_models/fp16/hv_pointpillars_secfpn_sbn-all_fp16_2x8_2x_nus-3d/hv_pointpillars_secfpn_sbn-all_fp16_2x8_2x_nus-3d_20201020_222626-c3f0483e.pth)|35.19|50.27|[PointPillars](https://arxiv.org/abs/1812.05784)|\n",
    "|NuScenes FPN|Lidar|[Backbone file](https://github.com/open-mmlab/mmdetection3d/blob/main/configs/pointpillars/pointpillars_hv_fpn_sbn-all_8xb4-2x_nus-3d.py)|[Config File](https://download.openmmlab.com/mmdetection3d/v1.0.0_models/pointpillars/hv_pointpillars_fpn_sbn-all_4x8_2x_nus-3d/hv_pointpillars_fpn_sbn-all_4x8_2x_nus-3d_20210826_104936-fca299c1.pth)|39.7|53.2|[PointPillars](https://arxiv.org/abs/1812.05784)|\n",
    "|NuScenes FPN (FP16)|Lidar|[Backbone file](https://github.com/open-mmlab/mmdetection3d/blob/main/configs/pointpillars/pointpillars_hv_fpn_sbn-all_8xb2-amp-2x_nus-3d.py)|[Config file](https://download.openmmlab.com/mmdetection3d/v0.1.0_models/fp16/hv_pointpillars_fpn_sbn-all_fp16_2x8_2x_nus-3d/hv_pointpillars_fpn_sbn-all_fp16_2x8_2x_nus-3d_20201021_120719-269f9dd6.pth)|39.2|53.2|[PointPillars](https://arxiv.org/abs/1812.05784)|\n",
    "|-|-|-|-|-|-|-|\n",
    "|BEVFusion|Lidar + Camera|[Backbone file](https://github.com/open-mmlab/mmdetection3d/blob/fe25f7a51d36e3702f961e198894580d83c4387b/projects/BEVFusion/configs/bevfusion_lidar_voxel0075_second_secfpn_8xb4-cyclic-20e_nus-3d.py)|[Config file](https://download.openmmlab.com/mmdetection3d/v1.1.0_models/bevfusion/bevfusion_lidar_voxel0075_second_secfpn_8xb4-cyclic-20e_nus-3d-2628f933.pth)|69.6|64.9|[BEVFusion](https://arxiv.org/abs/2205.13542)|"
   ]
  },
  {
   "attachments": {},
   "cell_type": "markdown",
   "metadata": {},
   "source": [
    "## 1.4 Setup your custom environment"
   ]
  },
  {
   "attachments": {},
   "cell_type": "markdown",
   "metadata": {},
   "source": [
    "The following cell contains content of the file `custom_env.py`. This is a configuration file that stores path variables, code parameters, etc. Once you fill out the following cell and run this notebook to ensure accuracy of this file, move the contents of this file to `custom_env.py`."
   ]
  },
  {
   "cell_type": "code",
   "execution_count": 2,
   "metadata": {},
   "outputs": [
    {
     "name": "stdout",
     "output_type": "stream",
     "text": [
      "Not creating /home/ranai/nuscenes_dataset/3D_Detection/saved_cms/lidar/mini/model2_good because it already exists\n"
     ]
    }
   ],
   "source": [
    "######## PARMS #########\n",
    "## Inference model params ##\n",
    "model_name = \"model2_good\"  # The name of the directory where the ML model for inference is stored\n",
    "modality = \"lidar\"          # The modality of the data\n",
    "is_mini = True              # Are you using this on NuScenes Mini?\n",
    "\n",
    "## Confusion Matrix Generation Params ##\n",
    "verbose = True\n",
    "###### PARAMS END ######\n",
    "\n",
    "\n",
    "####### Configuring the right dataset ########\n",
    "# The code looks in mmdetection3d/data/ for a dataset folder or symlink called `dataset` to find a dataset with size `size`.\n",
    "# The results will be stored in inside a folder titled `inference_results_path`\n",
    "if is_mini:\n",
    "    dataset = \"nuscenes-mini\"   \n",
    "    size = \"mini\"\n",
    "else:\n",
    "    dataset = \"nuscenes-full\"\n",
    "    size= \"full\"\n",
    "    \n",
    "########### METHODS #############\n",
    "def getGitRoot():\n",
    "    \"\"\"Gets the root directory of the git repository\n",
    "\n",
    "    Returns:\n",
    "        str: path the denotes the root directory of the git repository\n",
    "    \"\"\"\n",
    "    return subprocess.Popen(['git', 'rev-parse', '--show-toplevel'], stdout=subprocess.PIPE).communicate()[0].rstrip().decode('utf-8')\n",
    "\n",
    "def create_dir_if_not_exist(dir_path):\n",
    "    if not os.path.exists(dir_path):\n",
    "        print(f\"Directory {dir_path} not found. Creating...\")\n",
    "        os.makedirs(dir_path)\n",
    "    else:\n",
    "        print(f\"Not creating {dir_path} because it already exists\")\n",
    "\n",
    "def is_set_to_mini():\n",
    "    return is_mini\n",
    "###### METHODS END #########\n",
    "\n",
    "\n",
    "home_dir = str(Path.home())\n",
    "repo_dir = f\"{home_dir}/nuscenes_dataset/3D_Detection\"  #................# The directory where the repo is stored\n",
    "dataset_root = f\"{home_dir}/software/mmdetection3d/data/{dataset}/\"  #...# The directory where the dataset is stored\n",
    "output_dir = f\"{home_dir}/inference_results/{dataset}/{model_name}\" #....# The directory where the output of inference will be stored\n",
    "model_dir  = f\"{output_dir}/{model_name}\" #..............................# The directory where the inference model is stored\n",
    "preds_dir  = f\"{model_dir}/preds\" #......................................# The directory where inference predictions are stored\n",
    "cm_dir = f\"{repo_dir}/saved_cms/{modality}/{size}/{model_name}\" #........# The directory where the confusion matrices generated by the tool will be stored \n",
    "create_dir_if_not_exist(cm_dir)\n",
    "\n",
    "###########################\n",
    "### Standard Parameters ###\n",
    "eval_set_map = {\n",
    "        'v1.0-mini': 'mini_val',\n",
    "        'v1.0-trainval': 'val',\n",
    "        'v1.0-test': 'test'\n",
    "    }\n",
    "\n",
    "dataset_version = 'v1.0-mini' if is_set_to_mini() else 'v1.0-trainval'\n",
    "\n",
    "try:\n",
    "    eval_version = 'detection_cvpr_2019'\n",
    "    eval_config = config_factory(eval_version)\n",
    "except:\n",
    "    eval_version = 'cvpr_2019'\n",
    "    eval_config = config_factory(eval_version)\n",
    "\n",
    "cm_fn = f\"{cm_dir}/low_thresh_cm.pkl\"\n",
    "prop_cm_fn = f\"{cm_dir}/low_thresh_prop_cm.pkl\"\n",
    "prop_cm_seg_fn = f\"{cm_dir}/low_thresh_prop_cm_cluster.pkl\"\n",
    "prop_dict_file = f\"{cm_dir}/prop_dict.pkl\"\n",
    "control_dir = f\"{repo_dir}/system_evaluation/controllers/\""
   ]
  },
  {
   "attachments": {},
   "cell_type": "markdown",
   "metadata": {},
   "source": [
    "## 1.4. Ensure NuScenes is setup correctly"
   ]
  },
  {
   "cell_type": "code",
   "execution_count": 3,
   "metadata": {},
   "outputs": [
    {
     "name": "stdout",
     "output_type": "stream",
     "text": [
      "======\n",
      "Loading NuScenes tables for version v1.0-mini...\n",
      "23 category,\n",
      "8 attribute,\n",
      "4 visibility,\n",
      "911 instance,\n",
      "12 sensor,\n",
      "120 calibrated_sensor,\n",
      "31206 ego_pose,\n",
      "8 log,\n",
      "10 scene,\n",
      "404 sample,\n",
      "31206 sample_data,\n",
      "18538 sample_annotation,\n",
      "4 map,\n",
      "Done loading in 0.399 seconds.\n",
      "======\n",
      "Reverse indexing ...\n",
      "Done reverse indexing in 0.1 seconds.\n",
      "======\n"
     ]
    }
   ],
   "source": [
    "\n",
    "############# IMPORTS #############\n",
    "## Usually you would use the following imports to get all necessary paths from the custom_env.py file\n",
    "\n",
    "# from custom_env import dataset_root as dataroot\n",
    "# from custom_env import cm_dir, model_dir, eval_version, eval_config\n",
    "# from custom_env import is_set_to_mini, eval_set_map, dataset_version, eval_version \n",
    "##################################\n",
    "\n",
    "# parameters to setup nuScenes\n",
    "\n",
    "nusc = NuScenes(version=dataset_version, dataroot = dataset_root)"
   ]
  },
  {
   "attachments": {},
   "cell_type": "markdown",
   "metadata": {},
   "source": [
    "# 2. Run Inference"
   ]
  },
  {
   "cell_type": "code",
   "execution_count": null,
   "metadata": {},
   "outputs": [],
   "source": [
    "## To run inference, change line 3 to `if True:`\n",
    "\n",
    "if False:\n",
    "    now = datetime.now()\n",
    "    configs_path = \"configs/pointpillars/pointpillars_hv_fpn_sbn-all_8xb4-2x_nus-3d.py\"\n",
    "    checkpoint_path = \"checkpoints/hv_pointpillars_fpn_sbn-all_4x8_2x_nus-3d_20210826_104936-fca299c1.pth\"\n",
    "\n",
    "    folder_name = \"model_\"+now.strftime(\"%m-%d-%Y_%H_%M\")\n",
    "    out_dir = f\"{output_dir}/\" + folder_name\n",
    "\n",
    "    if not os.path.exists(out_dir):\n",
    "        os.makedirs(out_dir)\n",
    "\n",
    "    info_file = os.path.join(out_dir, \"model_info.txt\")\n",
    "    with open(info_file, 'w') as f:\n",
    "        f.write(f\"configs_path = {configs_path} \\n checkpoint_path = {checkpoint_path} \\n\")\n",
    "    f.close()\n",
    "        \n",
    "    pcd_path = f\"{dataset_root}/samples/LIDAR_TOP/\"\n",
    "\n",
    "    pcd_list = os.listdir(pcd_path)\n",
    "    print(len(pcd_list))\n",
    "\n",
    "    for i, pcd in enumerate(pcd_list):\n",
    "        path = Path(f\"{pcd_path}/{pcd}\").absolute()\n",
    "        if path.exists():\n",
    "            cmd = f'python3 demo/pcd_demo.py {str(path)} {configs_path} {checkpoint_path} --device cuda --out-dir {out_dir}'\n",
    "        \n",
    "        ##### Uncomment this to run the inference ######    \n",
    "        subprocess.run(cmd, cwd=f\"{home_dir}/software/mmdetection3d/\", shell=True)\n",
    "        \n",
    "        if i%100 == 0:\n",
    "            print(f\"---- ---- !-!-!-!- run_inference.py: Done with {i} files\")\n",
    "\n",
    "    with open(info_file, 'a') as f:\n",
    "        f.write(f\"Inferences complete.\")\n",
    "    f.close()\n",
    "\n",
    "    print(f\"Inference complete. Output written to {out_dir}\")"
   ]
  },
  {
   "attachments": {},
   "cell_type": "markdown",
   "metadata": {},
   "source": [
    "# 3. Confusion Matrix Generation"
   ]
  },
  {
   "attachments": {},
   "cell_type": "markdown",
   "metadata": {},
   "source": [
    "## 3.1 Setup \n",
    "\n",
    "<p align=\"center\">\n",
    "\n",
    "In the following block, there are various variables that you can change to change the behavior of the Confusion Matrix Generation\n",
    "\n",
    "| Variable name | Type | Description |\n",
    "|--|--|--|\n",
    "| `list of classes` | `list` | The class labels for the confsion matrix |\n",
    "|`conf_mat_mapping`|`dict`| Dict ***keys*** represent output classes for inference |\n",
    "|`conf_mat_mapping`|`dict`| Dict ***values*** represent the class lable to match it with |\n",
    "| `labels` | `dict` | Dict ***keys*** represent place in the confusion matrix |\n",
    "| `labels` | `dict` | Dict ***values*** represent place in the confusion matrix   |\n",
    "\n",
    "</p>"
   ]
  },
  {
   "attachments": {},
   "cell_type": "markdown",
   "metadata": {},
   "source": [
    "<p align=\"left\">\n",
    "    <img src=\"figures/Distance_param.jpg\" width=550px height=600px>\n",
    "</p>"
   ]
  },
  {
   "cell_type": "code",
   "execution_count": 4,
   "metadata": {},
   "outputs": [],
   "source": [
    "list_of_classes = [\"ped\", \"obs\"]        # The classes that are to be considered for the confusion matrix\n",
    "\n",
    "PED = 0\n",
    "OBS = 1\n",
    "EMPTY = 2\n",
    "                                        # TODO\n",
    "labels = {0: \"ped\", 1: \"obs\", 2:\"empty\"}\n",
    "\n",
    "conf_mat_mapping = {                    # The mapping from the output of the model to the classes in the confusion matrix\n",
    "    \"pedestrian\": PED,\n",
    "    \"bus\": OBS,\n",
    "    \"car\" : OBS,\n",
    "    \"truck\": OBS,\n",
    "    \"bicycle\": OBS,\n",
    "    \"motorcycle\": OBS,\n",
    "    \"traffic_cone\": OBS\n",
    "}"
   ]
  },
  {
   "cell_type": "code",
   "execution_count": 5,
   "metadata": {},
   "outputs": [
    {
     "name": "stdout",
     "output_type": "stream",
     "text": [
      "Initializing the generator\n",
      "Loading ground truth and prediction boxes\n",
      "Initializing nuScenes detection evaluation\n",
      "Loaded results from /home/ranai/nuscenes_dataset/inference_results_mini/model2_good/results_nusc.json. Found detections for 81 samples.\n",
      "Loading annotations for mini_val split from nuScenes version: v1.0-mini\n"
     ]
    },
    {
     "name": "stderr",
     "output_type": "stream",
     "text": [
      "100%|██████████| 81/81 [00:00<00:00, 484.09it/s]\n"
     ]
    },
    {
     "name": "stdout",
     "output_type": "stream",
     "text": [
      "Loaded ground truth annotations for 81 samples.\n",
      "Results dir: /home/ranai/nuscenes_dataset/inference_results_mini/model2_good/results_nusc.json\n",
      "Load boxes: No. of Pred tokens: 81\n",
      "Load boxes: No. of GT tokens: 81\n",
      "Filtering predictions\n",
      "=> Original number of boxes: 2040\n",
      "=> After distance based filtering: 2035\n",
      "=> After LIDAR and RADAR points based filtering: 2035\n",
      "=> After bike rack filtering: 2035\n",
      "Filtering ground truth annotations\n",
      "=> Original number of boxes: 4441\n",
      "=> After distance based filtering: 3785\n",
      "=> After LIDAR and RADAR points based filtering: 3393\n",
      "=> After bike rack filtering: 3393\n",
      "Completed filtering boxes\n",
      "Loading ground truth and prediction boxes\n",
      "Matching boxes\n",
      "Match boxes completed.\n"
     ]
    }
   ],
   "source": [
    "generator = GenerateConfusionMatrix(nusc=nusc,      \n",
    "    config=eval_config,\n",
    "    result_path=f'/home/ranai/nuscenes_dataset/inference_results_mini/model2_good/results_nusc.json',   ## PARAM Where are the results are stored\n",
    "    eval_set=eval_set_map[dataset_version],\n",
    "    output_dir=os.getcwd(), #.......................## PARAM Where to store the output\n",
    "    verbose=verbose,  #.............................## PARAM Verbose\n",
    "    conf_mat_mapping=conf_mat_mapping,\n",
    "    list_of_classes=list_of_classes,\n",
    "    distance_parametrized=True,\n",
    "    max_dist=100, #................................## PARAM The maximum distance the model considers\n",
    "    distance_bin=10 #..............................## PARAM For distance parametrized confusion matrices, the distance between radius bands\n",
    ")"
   ]
  },
  {
   "attachments": {},
   "cell_type": "markdown",
   "metadata": {},
   "source": [
    "## 3.2 Visualizing the scene"
   ]
  },
  {
   "cell_type": "code",
   "execution_count": 6,
   "metadata": {},
   "outputs": [],
   "source": [
    "####### RENDERING LIBRARIES ######\n",
    "\n",
    "from nuscenes_render import render_sample_data_with_predictions\n",
    "from generate_confusion_matrix import convert_from_EvalBox_to_Box"
   ]
  },
  {
   "cell_type": "code",
   "execution_count": 7,
   "metadata": {},
   "outputs": [
    {
     "name": "stdout",
     "output_type": "stream",
     "text": [
      "--------- Details for sample 38a28a3aaf2647f2a8c0e90e31267bf8 ------------\n",
      "Number of ground truth objects 44\n",
      "Number of prediction objects 20\n"
     ]
    },
    {
     "data": {
      "image/png": "[encoded data removed]",
      "text/plain": [
       "<Figure size 900x900 with 1 Axes>"
      ]
     },
     "metadata": {},
     "output_type": "display_data"
    }
   ],
   "source": [
    "import random\n",
    "\n",
    "random.seed = 42 # Change this number to visualize a different sample\n",
    "\n",
    "sample_tokens = generator.gt_boxes.sample_tokens # All the sample tokens in the dataset\n",
    "\n",
    "tok = random.choice(sample_tokens)\n",
    "sample_data_token = nusc.get('sample', tok)['data']['LIDAR_TOP']\n",
    "\n",
    "print(f\"--------- Details for sample {tok} ------------\")\n",
    "print(f\"Number of ground truth objects {len(generator.gt_boxes[tok])}\")\n",
    "print(f\"Number of prediction objects {len(generator.pred_boxes[tok])}\")\n",
    "\n",
    "render_sample_data_with_predictions(nusc=nusc, \n",
    "                                    sample_data_token=sample_data_token, \n",
    "                                    pred_boxes=[convert_from_EvalBox_to_Box(obj) for obj in generator.pred_boxes[tok]], \n",
    "                                    verbose=True)\n",
    "\n"
   ]
  },
  {
   "attachments": {},
   "cell_type": "markdown",
   "metadata": {},
   "source": [
    "## Setup for probability plot generation\n",
    "\n"
   ]
  },
  {
   "cell_type": "code",
   "execution_count": null,
   "metadata": {},
   "outputs": [],
   "source": [
    "# Common imports and functions:\n",
    "from system_evaluation.print_utils import print_cm, print_param_cm\n",
    "from system_evaluation.formula import *\n",
    "import json\n",
    "\n",
    "def get_confusion_matrix():\n",
    "    C, param_C = cmp.confusion_matrix(cm_fn)\n",
    "    return C, param_C\n",
    "\n",
    "def init(MAX_V=6):\n",
    "    Ncar = int(MAX_V*(MAX_V+1)/2 + 4)\n",
    "    return Ncar\n",
    "\n",
    "def save_results(INIT_V, P, P_param, result_type, true_env):\n",
    "    results_folder = f\"{cm_dir}/probability_results\"\n",
    "    if not os.path.exists(results_folder):\n",
    "        os.makedirs(results_folder)\n",
    "    fname_v = Path(f\"{results_folder}/{result_type}_cm_{true_env}_vmax_\"+str(MAX_V)+\"_initv.json\")\n",
    "    fname_p = Path(f\"{results_folder}/{result_type}_cm_{true_env}_vmax_\"+str(MAX_V)+\"_prob.json\")\n",
    "    fname_param_p = Path(f\"{results_folder}/{result_type}_param_cm_{true_env}_vmax_\"+str(MAX_V)+\"_prob.json\")\n",
    "\n",
    "    #pdb.set_trace()\n",
    "    with open(fname_v, 'w') as f:\n",
    "        json.dump(INIT_V, f)\n",
    "    with open(fname_p, 'w') as f:\n",
    "        json.dump(P, f)\n",
    "    with open(fname_param_p, 'w') as f:\n",
    "        json.dump(P_param, f)\n",
    "        \n",
    "def initialize(MAX_V, Ncar, maxv_init=None):\n",
    "    '''\n",
    "    Inputs::\n",
    "    MAX_V: Maximum speed that the car can travel at\n",
    "    Ncar: Maximum discrete states for the car\n",
    "    vmax_init: Max initial speed of the car (specified if different from MAX_V)\n",
    "\n",
    "    Outputs::\n",
    "    Vlow: Minimum car speed (0)\n",
    "    Vhigh: Maximum car speed (MAX_V)\n",
    "    xped: Pedestrian position\n",
    "    '''\n",
    "\n",
    "    Vlow = 0\n",
    "    Vhigh = MAX_V\n",
    "    \n",
    "    if maxv_init:\n",
    "        xmax_stop = maxv_init*(maxv_init+1)/2 + 1 # earliest stopping point for car \n",
    "    else:\n",
    "        xmax_stop = Vhigh*(Vhigh+1)/2 + 1 # earliest stopping point for car \n",
    "    \n",
    "    xped, xcar_stop = set_crosswalk_cell(Ncar, xmax_stop)\n",
    "    formula = formula_ev_good(xcar_stop, Vhigh, Vlow)\n",
    "    return Vlow, Vhigh, xped, formula"
   ]
  },
  {
   "cell_type": "code",
   "execution_count": null,
   "metadata": {},
   "outputs": [],
   "source": [
    "MAX_V = 6 # Max speed "
   ]
  },
  {
   "attachments": {},
   "cell_type": "markdown",
   "metadata": {},
   "source": [
    "Class labeled system-level guarantees with the car-pedestrian example"
   ]
  },
  {
   "cell_type": "code",
   "execution_count": null,
   "metadata": {},
   "outputs": [],
   "source": [
    "# Class Labeled CMs:\n",
    "from system_evaluation.simple_markov_chain import construct_mc as cmp\n",
    "from system_evaluation.simple_markov_chain.setup_mc import call_MC, call_MC_param\n",
    "\n",
    "def simulate(MAX_V=6):\n",
    "    Ncar = init(MAX_V=MAX_V)\n",
    "    C, param_C = cmp.confusion_matrix(cm_fn)\n",
    "    print(\" =============== Full confusion matrix ===============\")\n",
    "    print_cm(C)\n",
    "    print(\" =============== Parametrized confusion matrix ===============\")\n",
    "    print_param_cm(param_C)\n",
    "    print(\"===========================================================\")\n",
    "    INIT_V, P, P_param = compute_probabilities(Ncar, MAX_V, C, param_C,true_env_type=\"ped\")\n",
    "    save_results(INIT_V, P, P_param, \"class\", \"ped\")\n",
    "\n",
    "def compute_probabilities(Ncar, MAX_V,C, param_C,true_env_type=\"ped\"):\n",
    "    INIT_V = []\n",
    "    P = []\n",
    "    P_param = []\n",
    "    \n",
    "    Vlow, Vhigh, xped, formula = initialize(MAX_V, Ncar)\n",
    "    print(\"===========================================================\")\n",
    "    # Initial conditions set for all velocities\n",
    "    print(\"Specification: \")\n",
    "    print(formula)\n",
    "    for vcar in range(1, MAX_V+1):  # Initial speed at starting point\n",
    "        state_f = lambda x,v: (Vhigh-Vlow+1)*(x-1) + v\n",
    "        start_state = \"S\"+str(state_f(1,vcar))\n",
    "        print(start_state)\n",
    "        S, state_to_S = cmp.system_states_example_ped(Ncar, Vlow, Vhigh)\n",
    "        \n",
    "        true_env = str(1) # Sidewalk 3\n",
    "        O = {\"ped\", \"obs\", \"empty\"}\n",
    "        class_dict = {0: {'ped'}, 1: {'obs'}, 2: {'empty'}}\n",
    "        state_info = dict()\n",
    "        state_info[\"start\"] = start_state\n",
    "    \n",
    "        M = call_MC(S, O, state_to_S, C, class_dict, true_env, true_env_type, state_info, Ncar, xped, Vhigh)\n",
    "        result = M.prob_TL(formula)\n",
    "        P.append(result[start_state])\n",
    "\n",
    "        param_M = call_MC_param(S, O, state_to_S, param_C, class_dict, true_env, true_env_type, state_info, Ncar, xped, Vhigh)\n",
    "        result_param = param_M.prob_TL(formula)\n",
    "        P_param.append(result_param[start_state])\n",
    "        \n",
    "        print('Probability of eventually reaching good state for initial speed, {}, and max speed, {} is p = {}:'.format(vcar, MAX_V, result[start_state]))\n",
    "        # Store results:\n",
    "        INIT_V.append(vcar)\n",
    "            \n",
    "    return INIT_V, P, P_param\n",
    "\n",
    "simulate(MAX_V=MAX_V)"
   ]
  },
  {
   "attachments": {},
   "cell_type": "markdown",
   "metadata": {},
   "source": [
    "Now, we can compute system-level guarantees for the car-pedestrian example with proposition labeled confusion matrices for the full dataset."
   ]
  },
  {
   "cell_type": "code",
   "execution_count": null,
   "metadata": {},
   "outputs": [],
   "source": [
    "# Proposition Labeled CMs:\n",
    "from system_evaluation.simple_markov_chain import prop_construct_mc as cmp\n",
    "from system_evaluation.simple_markov_chain.setup_prop_mc import call_MC, call_MC_param\n",
    "\n",
    "def simulate_prop(MAX_V=6):\n",
    "    Ncar = init(MAX_V=MAX_V)\n",
    "    C, param_C, prop_dict = cmp.confusion_matrix(prop_cm_fn, prop_dict_file)\n",
    "    print(\" =============== Proposition-based Full confusion matrix ===============\")\n",
    "    print_cm(C)\n",
    "    print(\" =============== Parametrized Proposition-based confusion matrix ===============\")\n",
    "    print_param_cm(param_C)\n",
    "    print(\"===========================================================\")\n",
    "    INIT_V, P, P_param = compute_probabilities(Ncar, MAX_V,C, param_C, prop_dict)\n",
    "    save_results(INIT_V, P, P_param, \"prop\", \"ped\")\n",
    "\n",
    "def simulate_prop_seg(MAX_V=6):\n",
    "    Ncar = init(MAX_V=MAX_V)\n",
    "    C, param_C, prop_dict = cmp.confusion_matrix(prop_cm_seg_fn, prop_dict_file)\n",
    "    print(\" =============== Segmented Proposition-based Full confusion matrix ===============\")\n",
    "    print_cm(C)\n",
    "    print(\" =============== Segmented Parametrized Proposition-based confusion matrix ===============\")\n",
    "    print_param_cm(param_C)\n",
    "    print(\"===========================================================\")\n",
    "    INIT_V, P, P_param = compute_probabilities(Ncar, MAX_V,C, param_C, prop_dict)\n",
    "    save_results(INIT_V, P, P_param, \"prop_seg\", \"ped\")\n",
    "\n",
    "def compute_probabilities(Ncar, MAX_V,C, param_C, label_dict, true_env_type=\"ped\"):\n",
    "    INIT_V = []\n",
    "    P = []\n",
    "    P_param = []\n",
    "    Vlow, Vhigh, xped, formula = initialize(MAX_V, Ncar)\n",
    "    print(\"===========================================================\")\n",
    "    # Initial conditions set for all velocities\n",
    "    print(\"Specification: \")\n",
    "    print(formula)\n",
    "    for vcar in range(1, MAX_V+1):  # Initial speed at starting point\n",
    "        state_f = lambda x,v: (Vhigh-Vlow+1)*(x-1) + v\n",
    "        start_state = \"S\"+str(state_f(1,vcar))\n",
    "        print(start_state)\n",
    "        S, state_to_S = cmp.system_states_example_ped(Ncar, Vlow, Vhigh)\n",
    "        \n",
    "        true_env = str(1) # Sidewalk 3\n",
    "        O = [\"ped\", \"obs\", (\"ped\",\"obs\"), \"empty\"]\n",
    "        state_info = dict()\n",
    "        state_info[\"start\"] = start_state\n",
    "        \n",
    "        M = call_MC(S, O, state_to_S, C, label_dict, true_env, true_env_type, state_info, Ncar, xped, Vhigh)\n",
    "        result = M.prob_TL(formula)\n",
    "        P.append(result[start_state])\n",
    "        \n",
    "        param_M = call_MC_param(S, O, state_to_S, param_C, label_dict, true_env, true_env_type, state_info, Ncar, xped, Vhigh)\n",
    "        result_param = param_M.prob_TL(formula)\n",
    "        P_param.append(result_param[start_state])\n",
    "\n",
    "        print('Probability of eventually reaching good state for initial speed, {}, and max speed, {} is p = {}:'.format(vcar, MAX_V, result[start_state]))\n",
    "        # Store results:\n",
    "        INIT_V.append(vcar)\n",
    "    \n",
    "    return INIT_V, P, P_param\n",
    "\n",
    "simulate_prop(MAX_V=MAX_V)\n",
    "simulate_prop_seg(MAX_V=MAX_V)"
   ]
  },
  {
   "attachments": {},
   "cell_type": "markdown",
   "metadata": {},
   "source": [
    "Now, lets see the probabilities:"
   ]
  },
  {
   "cell_type": "code",
   "execution_count": null,
   "metadata": {},
   "outputs": [],
   "source": [
    "import matplotlib.pyplot as plt\n",
    "%matplotlib inline  \n",
    "\n",
    "def plot_probability(INIT_V, P, max_p, name, ax):\n",
    "    max_p = update_max(P, max_p)\n",
    "    ax.plot(INIT_V, P, 'o--', label=name)\n",
    "    st()\n",
    "    \n",
    "def load_result(results_folder, res_type, true_env_type, MAX_V):\n",
    "    try:\n",
    "        fname_v = Path(f\"{results_folder}/{res_type}_cm_{true_env_type}_vmax_\"+str(MAX_V)+\"_initv.json\")\n",
    "        fname_p = Path(f\"{results_folder}/{res_type}_cm_{true_env_type}_vmax_\"+str(MAX_V)+\"_prob.json\")\n",
    "        fname_p_param = Path(f\"{results_folder}/{res_type}_param_cm_{true_env_type}_vmax_\"+str(MAX_V)+\"_prob.json\")\n",
    "    except:\n",
    "        st()\n",
    "    \n",
    "    with open(fname_v) as fv:\n",
    "        INIT_V = json.load(fv)\n",
    "    with open(fname_p) as fp:\n",
    "        P = json.load(fp)\n",
    "    with open(fname_p_param) as fp_param:\n",
    "        P_param = json.load(fp_param)\n",
    "    return INIT_V, P, P_param\n",
    "    \n",
    "\n",
    "def plot_results(results_folder, MAX_V, true_env_type):\n",
    "    figure_folder = Path(f\"{results_folder}/figures\")\n",
    "    if not os.path.exists(figure_folder):\n",
    "        os.makedirs(figure_folder)\n",
    "    fig_name = Path(f\"{figure_folder}/guarantees_cm_{true_env_type}_vmax_\"+str(MAX_V)+\".png\")\n",
    "\n",
    "    fig, ax= plt.subplots()\n",
    "    ax.tick_params(axis='both', which='major', labelsize=15)\n",
    "    max_p = update_max()\n",
    "    title = \"System-level Guarantees\"\n",
    "    \n",
    "    for res_type in [\"class\", \"prop\", \"prop_seg\"]:\n",
    "        INIT_V, P, P_param = load_result(results_folder, res_type, true_env_type, MAX_V) \n",
    "        ax.plot(INIT_V, P, 'o--', label=res_type)\n",
    "        ax.plot(INIT_V, P_param, 'o--', label=res_type+\"_param\")\n",
    "        # plot_probability(INIT_V, P, max_p, res_type, ax)\n",
    "        # plot_probability(INIT_V, P_param, max_p, res_type+\"_param\", ax)    \n",
    "    \n",
    "    leg = ax.legend(loc=\"best\", fontsize=15)\n",
    "    ax.set_xlabel(\"Initial speed\",fontsize=15)\n",
    "    ax.set_ylabel(\"Probability of satisfaction\", fontsize=15)\n",
    "    ax.set_xticks(np.arange(1,MAX_V+1,1))\n",
    "    if title:\n",
    "        ax.set_title(title,fontsize=20)\n",
    "    y_upper_lim = min(1, max_p+0.1)\n",
    "    ax.set_ylim(0,1)\n",
    "    ax.get_figure().savefig(fig_name, format='png', dpi=400, bbox_inches = \"tight\")\n",
    "\n",
    "results_folder = f\"{cm_dir}/probability_results\"\n",
    "true_env_type = \"ped\"\n",
    "plot_results(results_folder, MAX_V, true_env_type)"
   ]
  },
  {
   "attachments": {},
   "cell_type": "markdown",
   "metadata": {},
   "source": [
    "# Bibliography\n",
    "\n",
    "```latex\n",
    "@inproceedings{PointPillars,\n",
    "  title={Pointpillars: Fast encoders for object detection from point clouds},\n",
    "  author={Lang, Alex H and Vora, Sourabh and Caesar, Holger and Zhou, Lubing and Yang, Jiong and Beijbom, Oscar},\n",
    "  booktitle={Proceedings of the IEEE Conference on Computer Vision and Pattern Recognition},\n",
    "  pages={12697--12705},\n",
    "  year={2019}\n",
    "}\n",
    "```\n",
    "\n",
    "```latex\n",
    "@inproceedings{BevFusion,\n",
    "  title={BEVFusion: Multi-Task Multi-Sensor Fusion with Unified Bird's-Eye View Representation},\n",
    "  author={Liu, Zhijian and Tang, Haotian and Amini, Alexander and Yang, Xingyu and Mao, Huizi and Rus, Daniela and Han, Song},\n",
    "  booktitle={IEEE International Conference on Robotics and Automation (ICRA)},\n",
    "  year={2023}\n",
    "}\n",
    "```"
   ]
  }
 ],
 "metadata": {
  "kernelspec": {
   "display_name": "Python 3",
   "language": "python",
   "name": "python3"
  },
  "language_info": {
   "codemirror_mode": {
    "name": "ipython",
    "version": 3
   },
   "file_extension": ".py",
   "mimetype": "text/x-python",
   "name": "python",
   "nbconvert_exporter": "python",
   "pygments_lexer": "ipython3",
   "version": "3.8.18"
  }
 },
 "nbformat": 4,
 "nbformat_minor": 2
}
