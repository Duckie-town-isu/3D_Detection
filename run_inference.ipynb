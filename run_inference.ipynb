{
 "cells": [
  {
   "cell_type": "code",
   "execution_count": 4,
   "metadata": {},
   "outputs": [],
   "source": [
    "import os\n",
    "import subprocess\n",
    "from pathlib import Path"
   ]
  },
  {
   "cell_type": "code",
   "execution_count": 7,
   "metadata": {},
   "outputs": [
    {
     "name": "stdout",
     "output_type": "stream",
     "text": [
      "34149\n"
     ]
    }
   ],
   "source": [
    "home_dir = str(Path.home())\n",
    "# out_dir = f\"{home_dir}/nuscenes_dataset/inference_results\"\n",
    "# pcd_path = f\"{home_dir}/software/mmdetection3d/data/nuscenes/samples/LIDAR_TOP/\"\n",
    "\n",
    "pcd_list = os.listdir(pcd_path)\n",
    "print(len(pcd_list))"
   ]
  },
  {
   "cell_type": "code",
   "execution_count": null,
   "metadata": {},
   "outputs": [],
   "source": [
    "# ONLY run the script run_inference.py\n",
    "# python3 demo/pcd_demo.py ~/nuscenes_dataset/nuscenes_mini/sweeps/LIDAR_TOP/n008-2018-08-01-15-16-36-0400__LIDAR_TOP__1533151603597909.pcd.bin configs/pointpillars/pointpillars_hv_fpn_sbn-all_8xb4-2x_nus-3d.py nuscenes_path_files/hv_pointpillars_fpn_sbn-all_4x8_2x_nus-3d_20210826_104936-fca299c1.pth  --device cuda\n",
    "# python3 demo/pcd_demo.py ~/nuscenes_dataset/nuscenes_mini/sweeps/LIDAR_TOP/n008-2018-08-01-15-16-36-0400__LIDAR_TOP__1533151603597909.pcd.bin configs/pointpillars/pointpillars_hv_fpn_sbn-all_8xb4-2x_nus-3d.py nuscenes_path_files/hv_pointpillars_fpn_sbn-all_4x8_2x_nus-3d_20210826_104936-fca299c1.pth  --device cuda\n",
    "\n",
    "configs_path = \"configs/pointpillars/pointpillars_hv_fpn_sbn-all_8xb4-2x_nus-3d.py\"\n",
    "checkpoint_path = \"checkpoints/hv_pointpillars_fpn_sbn-all_4x8_2x_nus-3d_20210826_104936-fca299c1.pth\"\n",
    "\n",
    "for pcd in pcd_list[:1]:\n",
    "    path = Path(f\"{home_dir}/software/mmdetection3d/data/nuscenes/samples/LIDAR_TOP/{pcd}\").absolute()\n",
    "    # print(path)\n",
    "    if path.exists():\n",
    "        cmd = f'python3 demo/pcd_demo.py {str(path)} {configs_path} {checkpoint_path} --device cuda --out-dir {out_dir}'\n",
    "        \n",
    "    # subprocess.run(cmd, cwd=f\"{home_dir}/software/mmdetection3d/\", shell=True)\n",
    "\n",
    "# cmd = f'python3 demo/pcd_demo.py data/nuscenes/{filename} {configs_path} {checkpoint_path} --device cuda'\n",
    "# print(cmd)\n",
    "# subprocess.run(cmd, cwd = \"/home/ranai/software/mmdetection3d/\", shell=True)"
   ]
  },
  {
   "cell_type": "code",
   "execution_count": 3,
   "metadata": {},
   "outputs": [
    {
     "name": "stdout",
     "output_type": "stream",
     "text": [
      "======\n",
      "Loading NuScenes tables for version v1.0-trainval...\n",
      "23 category,\n",
      "8 attribute,\n",
      "4 visibility,\n",
      "64386 instance,\n",
      "12 sensor,\n",
      "10200 calibrated_sensor,\n",
      "2631083 ego_pose,\n",
      "68 log,\n",
      "850 scene,\n",
      "34149 sample,\n",
      "2631083 sample_data,\n",
      "1166187 sample_annotation,\n",
      "4 map,\n",
      "Done loading in 17.754 seconds.\n",
      "======\n",
      "Reverse indexing ...\n",
      "Done reverse indexing in 3.3 seconds.\n",
      "======\n"
     ]
    }
   ],
   "source": [
    "# Choosing a file\n",
    "from nuscenes.nuscenes import NuScenes\n",
    "\n",
    "nusc = NuScenes(version='v1.0-trainval', dataroot = f\"{home_dir}/nuscenes_dataset/nuscenes_full\")\n",
    "scene = nusc.scene[2]"
   ]
  },
  {
   "cell_type": "code",
   "execution_count": 10,
   "metadata": {},
   "outputs": [
    {
     "data": {
      "text/plain": [
       "'fd8420396768425eabec9bdddf7e64b6'"
      ]
     },
     "execution_count": 10,
     "metadata": {},
     "output_type": "execute_result"
    }
   ],
   "source": [
    "sample_token = scene['first_sample_token'] \n",
    "\n",
    "# At this timestep, this gives tokens for everything (anootations, sensor output, etc)\n",
    "sample = nusc.get('sample', sample_token)\n",
    "sample_token"
   ]
  },
  {
   "cell_type": "code",
   "execution_count": 5,
   "metadata": {},
   "outputs": [
    {
     "data": {
      "text/plain": [
       "{'RADAR_FRONT': 'a80ee7369c9a4a15946caa5d59155bf2',\n",
       " 'RADAR_FRONT_LEFT': 'bebde4a7c59d4a528cc1ecd7e8fafba9',\n",
       " 'RADAR_FRONT_RIGHT': '87213a6c1ff246c99c16a683bf3eb2e3',\n",
       " 'RADAR_BACK_LEFT': 'eb2974c182db46409c17557d6923e505',\n",
       " 'RADAR_BACK_RIGHT': '3ff6ecbc35f843dfbbcb39c4a786659b',\n",
       " 'LIDAR_TOP': '80a35c14dd68408d83cf0e4f814feae4',\n",
       " 'CAM_FRONT': 'b8fba7d78cf547b996c431dec1f5ee26',\n",
       " 'CAM_FRONT_RIGHT': 'ba9b6fd85aca41cda98ff0c3d5f71af6',\n",
       " 'CAM_BACK_RIGHT': '669b1e90a823418b854daa7ce5c4e9e3',\n",
       " 'CAM_BACK': 'fdb81e7a95824171bac5f2d470bba0b3',\n",
       " 'CAM_BACK_LEFT': '97bd930608044d26bf17b10ed0a54c8e',\n",
       " 'CAM_FRONT_LEFT': '9adb8200723d4223bfc48ffd2c3a7646'}"
      ]
     },
     "execution_count": 5,
     "metadata": {},
     "output_type": "execute_result"
    }
   ],
   "source": [
    "# at the sample timestep, what is the token for the sensor output from\n",
    "sample['data']"
   ]
  },
  {
   "cell_type": "code",
   "execution_count": 7,
   "metadata": {},
   "outputs": [
    {
     "data": {
      "text/plain": [
       "{'token': '80a35c14dd68408d83cf0e4f814feae4',\n",
       " 'sample_token': 'fd8420396768425eabec9bdddf7e64b6',\n",
       " 'ego_pose_token': '80a35c14dd68408d83cf0e4f814feae4',\n",
       " 'calibrated_sensor_token': '53a38cc5fb2a491b83d9b18a5071e12a',\n",
       " 'timestamp': 1533201470448696,\n",
       " 'fileformat': 'pcd',\n",
       " 'is_key_frame': True,\n",
       " 'height': 0,\n",
       " 'width': 0,\n",
       " 'filename': 'samples/LIDAR_TOP/n015-2018-08-02-17-16-37+0800__LIDAR_TOP__1533201470448696.pcd.bin',\n",
       " 'prev': '',\n",
       " 'next': 'e168f3fa0f9e4956aecca639b0f52555',\n",
       " 'sensor_modality': 'lidar',\n",
       " 'channel': 'LIDAR_TOP'}"
      ]
     },
     "execution_count": 7,
     "metadata": {},
     "output_type": "execute_result"
    }
   ],
   "source": [
    "lidar_data = nusc.get('sample_data', sample['data'][\"LIDAR_TOP\"])\n",
    "filename = lidar_data['filename']\n",
    "filename\n",
    "lidar_data\n",
    "# nusc.render_sample_data(lidar_data['token'])"
   ]
  },
  {
   "cell_type": "code",
   "execution_count": null,
   "metadata": {},
   "outputs": [],
   "source": [
    "cam_front_data = nusc.get('sample_data', sample['data'][\"CAM_FRONT\"])\n",
    "filename = cam_front_data['filename']\n",
    "filename\n",
    "\n",
    "# nusc.render_sample_data(cam_front_data['token'])"
   ]
  },
  {
   "cell_type": "code",
   "execution_count": null,
   "metadata": {},
   "outputs": [],
   "source": [
    "cam_back_data = nusc.get('sample_data', sample['data'][\"CAM_BACK\"])\n",
    "filename = cam_back_data['filename']\n",
    "filename\n",
    "\n",
    "# nusc.render_sample_data(cam_back_data['token'])"
   ]
  },
  {
   "cell_type": "code",
   "execution_count": null,
   "metadata": {},
   "outputs": [],
   "source": [
    "# for scene in nusc.scenes:\n",
    "sample_token = scene['first_sample_token'] \n",
    "\n",
    "# At this timestep, this gives tokens for everything (anootations, sensor output, etc)\n",
    "sample = nusc.get('sample', sample_token)\n",
    "\n",
    "# at the sample timestep, what is the token for the sensor output from\n",
    "# sample['data']\n",
    "\n",
    "lidar_data = nusc.get('sample_data', sample['data'][\"LIDAR_TOP\"])\n",
    "filename = lidar_data['filename']\n",
    "\n",
    "annotation_tokens = sample[\"anns\"]\n",
    "for annotation_token in annotation_tokens:\n",
    "    nusc.get('sample_annotation', annotation_token)\n",
    "    "
   ]
  },
  {
   "cell_type": "code",
   "execution_count": null,
   "metadata": {},
   "outputs": [],
   "source": [
    "# Find a scene, Find the coresponding image token , based on token, get a list of the LIDAR file AND check the LIDAR images that we have predicted\n",
    "# If in the list of LIDAR files we have preocessed, the lidar file for this sample matches, then we load go through each annotation. Very Very inefficient. \n",
    "# Match processed files to original files\n",
    "processed_files = os.listdir(f\"{out_dir}/preds\")\n",
    "print(processed_files)\n",
    "\n",
    "for scene in nusc.scene:\n",
    "    # Get corespoding scene LIDAR TOP FILE \n",
    "    \n",
    "    first_sample_token = scene['first_sample_token'] \n",
    "\n",
    "    # At this timestep, this gives tokens for everything (anootations, sensor output, etc)\n",
    "    sample = nusc.get('sample', first_sample_token)\n",
    "    \n",
    "    lidar_data = nusc.get('sample_data', sample['data'][\"LIDAR_TOP\"])\n",
    "    filename = lidar_data['filename']\n",
    "    \n",
    "    filename.replace(\".bin\", \".json\")\n",
    "    \n",
    "    if filename in processed_files:\n",
    "        print(filename)\n",
    "        print(sample['anns'])\n"
   ]
  },
  {
   "attachments": {},
   "cell_type": "markdown",
   "metadata": {},
   "source": []
  },
  {
   "cell_type": "code",
   "execution_count": null,
   "metadata": {},
   "outputs": [],
   "source": []
  }
 ],
 "metadata": {
  "kernelspec": {
   "display_name": "Python 3",
   "language": "python",
   "name": "python3"
  },
  "language_info": {
   "codemirror_mode": {
    "name": "ipython",
    "version": 3
   },
   "file_extension": ".py",
   "mimetype": "text/x-python",
   "name": "python",
   "nbconvert_exporter": "python",
   "pygments_lexer": "ipython3",
   "version": "3.8.16"
  }
 },
 "nbformat": 4,
 "nbformat_minor": 2
}
