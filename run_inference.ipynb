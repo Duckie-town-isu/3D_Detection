{
 "cells": [
  {
   "cell_type": "code",
   "execution_count": 4,
   "metadata": {},
   "outputs": [],
   "source": [
    "import os\n",
    "import subprocess\n",
    "from pathlib import Path\n",
    "import pdb"
   ]
  },
  {
   "cell_type": "code",
   "execution_count": 7,
   "metadata": {},
   "outputs": [],
   "source": [
    "home_dir = str(Path.home())\n",
    "# out_dir = f\"{home_dir}/nuscenes_dataset/inference_results\"\n",
    "# pcd_path = f\"{home_dir}/software/mmdetection3d/data/nuscenes/samples/LIDAR_TOP/\"\n",
    "\n",
    "# pcd_list = os.listdir(pcd_path)"
   ]
  },
  {
   "cell_type": "code",
   "execution_count": 3,
   "metadata": {},
   "outputs": [
    {
     "ename": "NameError",
     "evalue": "name 'pcd_list' is not defined",
     "output_type": "error",
     "traceback": [
      "\u001b[0;31m---------------------------------------------------------------------------\u001b[0m",
      "\u001b[0;31mNameError\u001b[0m                                 Traceback (most recent call last)",
      "Cell \u001b[0;32mIn[3], line 8\u001b[0m\n\u001b[1;32m      5\u001b[0m checkpoint_path \u001b[38;5;241m=\u001b[39m \u001b[38;5;124m\"\u001b[39m\u001b[38;5;124mcheckpoints/hv_pointpillars_fpn_sbn-all_4x8_2x_nus-3d_20210826_104936-fca299c1.pth\u001b[39m\u001b[38;5;124m\"\u001b[39m\n\u001b[1;32m      7\u001b[0m i \u001b[38;5;241m=\u001b[39m \u001b[38;5;241m0\u001b[39m\n\u001b[0;32m----> 8\u001b[0m \u001b[38;5;28;01mfor\u001b[39;00m pcd \u001b[38;5;129;01min\u001b[39;00m \u001b[43mpcd_list\u001b[49m[:\u001b[38;5;241m10\u001b[39m]:\n\u001b[1;32m      9\u001b[0m     path \u001b[38;5;241m=\u001b[39m Path(\u001b[38;5;124mf\u001b[39m\u001b[38;5;124m\"\u001b[39m\u001b[38;5;132;01m{\u001b[39;00mhome_dir\u001b[38;5;132;01m}\u001b[39;00m\u001b[38;5;124m/software/mmdetection3d/data/nuscenes/samples/LIDAR_TOP/\u001b[39m\u001b[38;5;132;01m{\u001b[39;00mpcd\u001b[38;5;132;01m}\u001b[39;00m\u001b[38;5;124m\"\u001b[39m)\u001b[38;5;241m.\u001b[39mabsolute()\n\u001b[1;32m     10\u001b[0m     \u001b[38;5;66;03m# print(path)\u001b[39;00m\n",
      "\u001b[0;31mNameError\u001b[0m: name 'pcd_list' is not defined"
     ]
    }
   ],
   "source": [
    "# python3 demo/pcd_demo.py ~/nuscenes_dataset/nuscenes_mini/sweeps/LIDAR_TOP/n008-2018-08-01-15-16-36-0400__LIDAR_TOP__1533151603597909.pcd.bin configs/pointpillars/pointpillars_hv_fpn_sbn-all_8xb4-2x_nus-3d.py nuscenes_path_files/hv_pointpillars_fpn_sbn-all_4x8_2x_nus-3d_20210826_104936-fca299c1.pth  --device cuda\n",
    "# python3 demo/pcd_demo.py ~/nuscenes_dataset/nuscenes_mini/sweeps/LIDAR_TOP/n008-2018-08-01-15-16-36-0400__LIDAR_TOP__1533151603597909.pcd.bin configs/pointpillars/pointpillars_hv_fpn_sbn-all_8xb4-2x_nus-3d.py nuscenes_path_files/hv_pointpillars_fpn_sbn-all_4x8_2x_nus-3d_20210826_104936-fca299c1.pth  --device cuda\n",
    "\n",
    "configs_path = \"configs/pointpillars/pointpillars_hv_fpn_sbn-all_8xb4-2x_nus-3d.py\"\n",
    "checkpoint_path = \"checkpoints/hv_pointpillars_fpn_sbn-all_4x8_2x_nus-3d_20210826_104936-fca299c1.pth\"\n",
    "\n",
    "i = 0\n",
    "for pcd in pcd_list[:10]:\n",
    "    path = Path(f\"{home_dir}/software/mmdetection3d/data/nuscenes/samples/LIDAR_TOP/{pcd}\").absolute()\n",
    "    # print(path)\n",
    "    if path.exists():\n",
    "        cmd = f'python3 demo/pcd_demo.py {str(path)} {configs_path} {checkpoint_path} --device cuda --out-dir {out_dir}'\n",
    "    else:\n",
    "        pdb.set_trace()\n",
    "        \n",
    "    # subprocess.run(cmd, cwd=f\"{home_dir}/software/mmdetection3d/\", shell=True)\n",
    "\n",
    "print(i)\n",
    "\n",
    "# cmd = f'python3 demo/pcd_demo.py data/nuscenes/{filename} {configs_path} {checkpoint_path} --device cuda'\n",
    "# print(cmd)\n",
    "# subprocess.run(cmd, cwd = \"/home/ranai/software/mmdetection3d/\", shell=True)"
   ]
  },
  {
   "cell_type": "code",
   "execution_count": 9,
   "metadata": {},
   "outputs": [
    {
     "name": "stdout",
     "output_type": "stream",
     "text": [
      "======\n",
      "Loading NuScenes tables for version v1.0-trainval...\n",
      "23 category,\n",
      "8 attribute,\n",
      "4 visibility,\n",
      "64386 instance,\n",
      "12 sensor,\n",
      "10200 calibrated_sensor,\n",
      "2631083 ego_pose,\n",
      "68 log,\n",
      "850 scene,\n",
      "34149 sample,\n",
      "2631083 sample_data,\n",
      "1166187 sample_annotation,\n",
      "4 map,\n",
      "Done loading in 27.427 seconds.\n",
      "======\n",
      "Reverse indexing ...\n",
      "Done reverse indexing in 5.9 seconds.\n",
      "======\n"
     ]
    }
   ],
   "source": [
    "# Choosing a file\n",
    "from nuscenes.nuscenes import NuScenes\n",
    "\n",
    "nusc = NuScenes(version='v1.0-trainval', dataroot = f\"{home_dir}/nuscenes_dataset/nuscenes_full\")\n",
    "scene = nusc.scene[2]"
   ]
  },
  {
   "cell_type": "code",
   "execution_count": 11,
   "metadata": {},
   "outputs": [
    {
     "data": {
      "text/plain": [
       "{'token': 'fd8420396768425eabec9bdddf7e64b6',\n",
       " 'timestamp': 1533201470448696,\n",
       " 'prev': '',\n",
       " 'next': '6eb8a3ff0abf4f3a9380a48f2a0b87ef',\n",
       " 'scene_token': 'e7ef871f77f44331aefdebc24ec034b7',\n",
       " 'data': {'RADAR_FRONT': 'a80ee7369c9a4a15946caa5d59155bf2',\n",
       "  'RADAR_FRONT_LEFT': 'bebde4a7c59d4a528cc1ecd7e8fafba9',\n",
       "  'RADAR_FRONT_RIGHT': '87213a6c1ff246c99c16a683bf3eb2e3',\n",
       "  'RADAR_BACK_LEFT': 'eb2974c182db46409c17557d6923e505',\n",
       "  'RADAR_BACK_RIGHT': '3ff6ecbc35f843dfbbcb39c4a786659b',\n",
       "  'LIDAR_TOP': '80a35c14dd68408d83cf0e4f814feae4',\n",
       "  'CAM_FRONT': 'b8fba7d78cf547b996c431dec1f5ee26',\n",
       "  'CAM_FRONT_RIGHT': 'ba9b6fd85aca41cda98ff0c3d5f71af6',\n",
       "  'CAM_BACK_RIGHT': '669b1e90a823418b854daa7ce5c4e9e3',\n",
       "  'CAM_BACK': 'fdb81e7a95824171bac5f2d470bba0b3',\n",
       "  'CAM_BACK_LEFT': '97bd930608044d26bf17b10ed0a54c8e',\n",
       "  'CAM_FRONT_LEFT': '9adb8200723d4223bfc48ffd2c3a7646'},\n",
       " 'anns': ['b746e7064b3d483c9ffc13163d20c4c9',\n",
       "  'f2a0d6f97f064c5cbb29ddbd708c2ed5',\n",
       "  '8fd6a30b89444e80ae3ba97c662116aa',\n",
       "  '4593051eccfb422ea1abb7793dbf0b81',\n",
       "  'd26d40022ed541fda280abbf5c3591d5',\n",
       "  '4b082146307a4701885f907ba805468b',\n",
       "  '37ec1c27b63b461fb82c2592def48cb6',\n",
       "  '19fe0a15666946459bee9ed65e05515b',\n",
       "  '47364b4089694082bc7aed1c9ae68f76',\n",
       "  '8d8c81d1502547a1b9024568cb9911df',\n",
       "  'bdb2ededbcce44948aa15d142adf4032',\n",
       "  'cfdc587d3a2f4233b9d962b3fdd9bc6c',\n",
       "  'b445dae496af49e5bb682bcbe3944318',\n",
       "  'f3098c0393474c10a243558476817440',\n",
       "  '915cc0480bc14a77bd878db41a602ac4',\n",
       "  '4e025eedef534ff78d8be1bc2c6c06a4',\n",
       "  'cb4f508256dc4d1582bfe4c3a432555e',\n",
       "  '9fc8010149a54805a92799d898e3e117',\n",
       "  'de011f23ad174503955555e89bbe9859',\n",
       "  'c0d9cb13fc994791b5c628bad2be8a41',\n",
       "  '400558ef1fee43a99e2ec4a9db4bc6bf',\n",
       "  '8c2f151c2cbc481ba422cfa2086681ce',\n",
       "  '7c6651d77fa34daba278dd1ad58643af',\n",
       "  '9ca38c67356344d39d346f64c6a1295e',\n",
       "  'a820838aae00434dae71aa1de4dc72eb',\n",
       "  '780c5b8cd7824a7f96bf1f1f5c23abe2',\n",
       "  '8db7c9680b9a43038029bb70c32756c5',\n",
       "  '31c3d3d962d2425a9c9c7007916ed98b',\n",
       "  'd63fe60e110f4d7c94b950fd114ebba8',\n",
       "  '576ece85f1f74539ad3f89a4b3b20d3e',\n",
       "  'fa361a54fc314b919b221b3d56183487',\n",
       "  '91efad821294443f8a896c464e40796a',\n",
       "  'e751d59062c24df6b1f457524543d842',\n",
       "  '4f0c8ec610df4205b40f4c264335daff',\n",
       "  '6b541936288c40e0bb9503fe702f7b71',\n",
       "  '258e4b9fe80946b897992650450efaa9',\n",
       "  '9b1e0467b8fd42f49bc7ab0dd97b3332']}"
      ]
     },
     "execution_count": 11,
     "metadata": {},
     "output_type": "execute_result"
    }
   ],
   "source": [
    "sample_token = scene['first_sample_token'] \n",
    "\n",
    "# At this timestep, this gives tokens for everything (anootations, sensor output, etc)\n",
    "sample = nusc.get('sample', sample_token)\n",
    "sample\n"
   ]
  },
  {
   "cell_type": "code",
   "execution_count": 12,
   "metadata": {},
   "outputs": [
    {
     "data": {
      "text/plain": [
       "{'RADAR_FRONT': 'a80ee7369c9a4a15946caa5d59155bf2',\n",
       " 'RADAR_FRONT_LEFT': 'bebde4a7c59d4a528cc1ecd7e8fafba9',\n",
       " 'RADAR_FRONT_RIGHT': '87213a6c1ff246c99c16a683bf3eb2e3',\n",
       " 'RADAR_BACK_LEFT': 'eb2974c182db46409c17557d6923e505',\n",
       " 'RADAR_BACK_RIGHT': '3ff6ecbc35f843dfbbcb39c4a786659b',\n",
       " 'LIDAR_TOP': '80a35c14dd68408d83cf0e4f814feae4',\n",
       " 'CAM_FRONT': 'b8fba7d78cf547b996c431dec1f5ee26',\n",
       " 'CAM_FRONT_RIGHT': 'ba9b6fd85aca41cda98ff0c3d5f71af6',\n",
       " 'CAM_BACK_RIGHT': '669b1e90a823418b854daa7ce5c4e9e3',\n",
       " 'CAM_BACK': 'fdb81e7a95824171bac5f2d470bba0b3',\n",
       " 'CAM_BACK_LEFT': '97bd930608044d26bf17b10ed0a54c8e',\n",
       " 'CAM_FRONT_LEFT': '9adb8200723d4223bfc48ffd2c3a7646'}"
      ]
     },
     "execution_count": 12,
     "metadata": {},
     "output_type": "execute_result"
    }
   ],
   "source": [
    "# at the sample timestep, what is the token for the sensor output from\n",
    "sample['data']"
   ]
  },
  {
   "cell_type": "code",
   "execution_count": null,
   "metadata": {},
   "outputs": [],
   "source": [
    "lidar_data = nusc.get('sample_data', sample['data'][\"LIDAR_TOP\"])\n",
    "filename = lidar_data['filename']\n",
    "filename\n",
    "\n",
    "# nusc.render_sample_data(lidar_data['token'])"
   ]
  },
  {
   "cell_type": "code",
   "execution_count": null,
   "metadata": {},
   "outputs": [],
   "source": [
    "cam_front_data = nusc.get('sample_data', sample['data'][\"CAM_FRONT\"])\n",
    "filename = cam_front_data['filename']\n",
    "filename\n",
    "\n",
    "# nusc.render_sample_data(cam_front_data['token'])"
   ]
  },
  {
   "cell_type": "code",
   "execution_count": null,
   "metadata": {},
   "outputs": [],
   "source": [
    "cam_back_data = nusc.get('sample_data', sample['data'][\"CAM_BACK\"])\n",
    "filename = cam_back_data['filename']\n",
    "filename\n",
    "\n",
    "# nusc.render_sample_data(cam_back_data['token'])"
   ]
  },
  {
   "cell_type": "code",
   "execution_count": null,
   "metadata": {},
   "outputs": [],
   "source": [
    "# for scene in nusc.scenes:\n",
    "sample_token = scene['first_sample_token'] \n",
    "\n",
    "# At this timestep, this gives tokens for everything (anootations, sensor output, etc)\n",
    "sample = nusc.get('sample', sample_token)\n",
    "\n",
    "# at the sample timestep, what is the token for the sensor output from\n",
    "# sample['data']\n",
    "\n",
    "lidar_data = nusc.get('sample_data', sample['data'][\"LIDAR_TOP\"])\n",
    "filename = lidar_data['filename']\n",
    "\n",
    "annotation_tokens = sample[\"anns\"]\n",
    "for annotation_token in annotation_tokens:\n",
    "    nusc.get('sample_annotation', annotation_token)\n",
    "    "
   ]
  },
  {
   "cell_type": "code",
   "execution_count": null,
   "metadata": {},
   "outputs": [],
   "source": [
    "# Find a scene, Find the coresponding image token , based on token, get a list of the LIDAR file AND check the LIDAR images that we have predicted\n",
    "# If in the list of LIDAR files we have preocessed, the lidar file for this sample matches, then we load go through each annotation. Very Very inefficient. \n",
    "\n",
    "for scene in nusc.scene:\n",
    "    # Get corespoding scene LIDAR TOP FILE \n",
    "    \n",
    "    first_sample_token = scene['first_sample_token'] \n",
    "\n",
    "    # At this timestep, this gives tokens for everything (anootations, sensor output, etc)\n",
    "    sample = nusc.get('sample', first_sample_token)\n",
    "    \n",
    "    lidar_data = nusc.get('sample_data', sample['data'][\"LIDAR_TOP\"])\n",
    "    filename = lidar_data['filename']\n",
    "    \n",
    "    processed_files = os.listdir(\"/home/ranai/software/mmdetection3d/output/preds\")\n",
    "    \n",
    "    if filename in processed_files:\n",
    "        # Found file with the same name. Now compare the annotations in this file\n",
    "        sample['anns']\n",
    "        \n",
    "        \n",
    "\n",
    "    "
   ]
  }
 ],
 "metadata": {
  "kernelspec": {
   "display_name": "Python 3",
   "language": "python",
   "name": "python3"
  },
  "language_info": {
   "codemirror_mode": {
    "name": "ipython",
    "version": 3
   },
   "file_extension": ".py",
   "mimetype": "text/x-python",
   "name": "python",
   "nbconvert_exporter": "python",
   "pygments_lexer": "ipython3",
   "version": "3.8.10"
  }
 },
 "nbformat": 4,
 "nbformat_minor": 2
}
