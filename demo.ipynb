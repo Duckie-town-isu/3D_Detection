{
 "cells": [
  {
   "cell_type": "code",
   "execution_count": null,
   "metadata": {},
   "outputs": [],
   "source": [
    "import os\n",
    "import subprocess\n",
    "from pathlib import Path\n",
    "import torch\n",
    "from mmdet3d.evaluation.metrics import nuscenes_metric as nus_metric\n",
    "from mmdet3d.evaluation.metrics.nuscenes_metric import output_to_nusc_box\n",
    "import json \n",
    "from pyquaternion import Quaternion\n",
    "from nuscenes.utils.data_classes import Box\n",
    "from nuscenes.utils.geometry_utils import transform_matrix\n",
    "import operator\n",
    "from functools import reduce\n",
    "from pathlib import Path\n",
    "import numpy as np\n",
    "from nuscenes.nuscenes import NuScenes\n",
    "from nuscenes.eval.detection.config import config_factory\n",
    "from nuscenes.eval.detection.evaluate import NuScenesEval\n",
    "from nuscenes.utils.data_classes import RadarPointCloud\n",
    "from classes import cls_attr_dist, class_names, mini_val_tokens\n",
    "from custom_env import home_dir, output_dir, preds_dir, model_dir, is_set_to_mini\n",
    "from custom_env import dataset_root as dataroot\n",
    "\n",
    "import import_ipynb\n",
    "import nuscenes_accumulate\n",
    "import nuscenes_evaluate"
   ]
  },
  {
   "cell_type": "code",
   "execution_count": null,
   "metadata": {},
   "outputs": [],
   "source": [
    "eval_set_map = {\n",
    "        'v1.0-mini': 'mini_val',\n",
    "        'v1.0-trainval': 'val',\n",
    "        'v1.0-test': 'test'\n",
    "    }\n",
    "\n",
    "dataset_version = 'v1.0-mini' if is_set_to_mini() else 'v1.0-trainval'\n",
    "try:\n",
    "    eval_version = 'detection_cvpr_2019'\n",
    "    eval_config = config_factory(eval_version)\n",
    "except:\n",
    "    eval_version = 'cvpr_2019'\n",
    "    eval_config = config_factory(eval_version)\n",
    "    \n"
   ]
  },
  {
   "cell_type": "code",
   "execution_count": null,
   "metadata": {},
   "outputs": [],
   "source": [
    "DETECTION_THRESHOLD = 0.4\n",
    "\n",
    "backend_args = None\n",
    "nusc = NuScenes(version=dataset_version, dataroot = dataroot)\n",
    "ann_file = f'{dataroot}nuscenes_infos_val.pkl'\n",
    "metric='bbox'\n",
    "\n",
    "pcd_path = f\"{dataroot}/samples/LIDAR_TOP/\"\n",
    "mmdet_path = f\"{home_dir}/software/mmdetection3d\"\n",
    "pcd_list = os.listdir(pcd_path)\n",
    "\n",
    "# Instantiate evaluator:\n",
    "evaluator = nus_metric.NuScenesMetric(dataroot, ann_file)"
   ]
  },
  {
   "attachments": {},
   "cell_type": "markdown",
   "metadata": {},
   "source": [
    "|Checkpoint.pth|config acc to links|log.json|config.py acc to log.json\n",
    "|------------|----------|---|---|\n",
    "|hv_pointpillars_secfpn_sbn-all_4x8_2x_nus-3d_20210826_225857-f19d00a3.pth|pointpillars_hv_secfpn_sbn-all_8xb4-2x_nus-3d.py|hv_pointpillars_secfpn_sbn-all_4x8_2x_nus-3d_20210826_225857.log.json|hv_pointpillars_secfpn_sbn-all_4x8_2x_nus-3d.py|\n",
    "|hv_pointpillars_secfpn_sbn-all_fp16_2x8_2x_nus-3d_20201020_222626-c3f0483e.pth|pointpillars_hv_secfpn_sbn-all_8xb2-amp-2x_nus-3d.py|hv_pointpillars_secfpn_sbn-all_fp16_2x8_2x_nus-3d_20201020_222626.log.json||\n",
    "|hv_pointpillars_fpn_sbn-all_4x8_2x_nus-3d_20210826_104936-fca299c1.pth|pointpillars_hv_fpn_sbn-all_8xb4-2x_nus-3d.py|hv_pointpillars_fpn_sbn-all_4x8_2x_nus-3d_20210826_104936.log.json|hv_pointpillars_fpn_sbn-all_4x8_2x_nus-3d.py|\n",
    "|hv_pointpillars_fpn_sbn-all_fp16_2x8_2x_nus-3d_20201021_120719-269f9dd6.pth|pointpillars_hv_fpn_sbn-all_8xb2-amp-2x_nus-3d.py|hv_pointpillars_fpn_sbn-all_fp16_2x8_2x_nus-3d_20201021_120719.log.json||\n"
   ]
  },
  {
   "cell_type": "code",
   "execution_count": null,
   "metadata": {},
   "outputs": [],
   "source": [
    "# Modified PCDet functions:\n",
    "# Box conversion\n",
    "def boxes_lidar_to_nusenes(det_info):\n",
    "    boxes3d = det_info['bboxes_3d']\n",
    "    scores = det_info['scores_3d']\n",
    "    labels = det_info['labels_3d']\n",
    "\n",
    "    box_list = []\n",
    "    for k in range(boxes3d.shape[0]):\n",
    "        quat = Quaternion(axis=[0, 0, 1], radians=boxes3d[k, 6])\n",
    "        velocity = (*boxes3d[k, 7:9], 0.0) if boxes3d.shape[1] == 9 else (0.0, 0.0, 0.0)\n",
    "        box = Box(\n",
    "            boxes3d[k, :3],\n",
    "            boxes3d[k, [4, 3, 5]],  # wlh\n",
    "            quat, label=labels[k], score=scores[k], velocity=velocity,\n",
    "        )\n",
    "        box_list.append(box)\n",
    "    return box_list\n",
    "\n",
    "def lidar_nusc_box_to_global(nusc, boxes, sample_token):\n",
    "    s_record = nusc.get('sample', sample_token)\n",
    "    sample_data_token = s_record['data']['LIDAR_TOP']\n",
    "\n",
    "    sd_record = nusc.get('sample_data', sample_data_token)\n",
    "    cs_record = nusc.get('calibrated_sensor', sd_record['calibrated_sensor_token'])\n",
    "    sensor_record = nusc.get('sensor', cs_record['sensor_token'])\n",
    "    pose_record = nusc.get('ego_pose', sd_record['ego_pose_token'])\n",
    "\n",
    "    data_path = nusc.get_sample_data_path(sample_data_token)\n",
    "    box_list = []\n",
    "    for box in boxes:\n",
    "        # Move box to ego vehicle coord system\n",
    "        box.rotate(Quaternion(cs_record['rotation']))\n",
    "        box.translate(np.array(cs_record['translation']))\n",
    "        # Move box to global coord system\n",
    "        box.rotate(Quaternion(pose_record['rotation']))\n",
    "        box.translate(np.array(pose_record['translation']))\n",
    "        box_list.append(box)\n",
    "    return box_list\n",
    "\n",
    "def transform_det_annos_to_nusc_annos(det_annos, nusc):\n",
    "    nusc_annos = {\n",
    "        'results': {},\n",
    "        'meta': None,\n",
    "    }\n",
    "\n",
    "    for det in det_annos:\n",
    "        annos = []\n",
    "        try:\n",
    "            box_list = boxes_lidar_to_nusenes(det)\n",
    "            box_list = lidar_nusc_box_to_global(\n",
    "                nusc=nusc, boxes=box_list, sample_token=det['metadata']['token']\n",
    "            )\n",
    "        except:\n",
    "            print(\"TypeError in transform_det_annos_to_nusc_annos: string indices must be integers\")\n",
    "        for k, box in enumerate(box_list):\n",
    "            name = det['name'][k]\n",
    "            if np.sqrt(box.velocity[0] ** 2 + box.velocity[1] ** 2) > 0.2:\n",
    "                if name in ['car', 'construction_vehicle', 'bus', 'truck', 'trailer']:\n",
    "                    attr = 'vehicle.moving'\n",
    "                elif name in ['bicycle', 'motorcycle']:\n",
    "                    attr = 'cycle.with_rider'\n",
    "                else:\n",
    "                    attr = None\n",
    "            else:\n",
    "                if name in ['pedestrian']:\n",
    "                    attr = 'pedestrian.standing'\n",
    "                elif name in ['bus']:\n",
    "                    attr = 'vehicle.stopped'\n",
    "                else:\n",
    "                    attr = None\n",
    "            attr = attr if attr is not None else max(\n",
    "                cls_attr_dist[name].items(), key=operator.itemgetter(1))[0]\n",
    "            nusc_anno = {\n",
    "                'sample_token': det['metadata']['token'],\n",
    "                'translation': box.center.tolist(),\n",
    "                'size': box.wlh.tolist(),\n",
    "                'rotation': box.orientation.elements.tolist(),\n",
    "                'velocity': box.velocity[:2].tolist(),\n",
    "                'detection_name': name,\n",
    "                'detection_score': box.score,\n",
    "                'attribute_name': attr\n",
    "            }\n",
    "            if det['scores_3d'][k] >= DETECTION_THRESHOLD:\n",
    "                annos.append(nusc_anno)\n",
    "\n",
    "        nusc_annos['results'].update({det[\"metadata\"][\"token\"]: annos})\n",
    "\n",
    "    return nusc_annos\n"
   ]
  },
  {
   "cell_type": "code",
   "execution_count": null,
   "metadata": {},
   "outputs": [],
   "source": [
    "def construct_token_dict():\n",
    "    \"\"\"\n",
    "    Constructs a dictionary mapping filenames to lidar and sample tokens\n",
    "    \"\"\"\n",
    "    token_dict = dict()\n",
    "    for scene in nusc.scene:\n",
    "        sample_token = scene['first_sample_token']\n",
    "        sample = nusc.get('sample', sample_token)\n",
    "        lidar_data = nusc.get('sample_data', sample['data'][\"LIDAR_TOP\"])\n",
    "        while sample['next'] != \"\":\n",
    "            filename = lidar_data['filename']\n",
    "            file_str = filename[filename.rfind(\"/\")+1:].replace(\"bin\", \"json\")\n",
    "            token_dict[file_str] = {\"lidar_token\": lidar_data['token'], \"sample_token\": lidar_data['sample_token']}\n",
    "            sample = nusc.get(\"sample\", sample['next'])\n",
    "            lidar_data = nusc.get('sample_data', sample['data'][\"LIDAR_TOP\"])\n",
    "        \n",
    "        filename = lidar_data['filename']\n",
    "        file_str = filename[filename.rfind(\"/\")+1:].replace(\"bin\", \"json\")\n",
    "        token_dict[file_str] = {\"lidar_token\": lidar_data['token'], \"sample_token\": lidar_data['sample_token']}\n",
    "\n",
    "    with open(model_dir + \"/token_dict.json\", 'w') as f:\n",
    "        json.dump(token_dict, f)\n",
    "    f.close()"
   ]
  },
  {
   "cell_type": "code",
   "execution_count": null,
   "metadata": {},
   "outputs": [],
   "source": [
    "def get_sample_token(fn):\n",
    "    with open(model_dir + \"/token_dict_mini.json\", 'r') as f:\n",
    "        token_dict = json.load(f)\n",
    "    sample_token = token_dict[fn]['sample_token']\n",
    "    f.close()\n",
    "    return sample_token\n",
    "\n",
    "# Read json file:\n",
    "def read_preds_file(fn):\n",
    "    full_fn = os.path.join(preds_dir, fn)\n",
    "    with open(full_fn, 'r') as f:\n",
    "        result = json.load(f)\n",
    "        result['bboxes_3d'] = torch.Tensor(result['bboxes_3d']).numpy()\n",
    "        result['scores_3d'] = torch.Tensor(result['scores_3d']).numpy()\n",
    "        class_labels = [class_names[k] for k in result['labels_3d']]\n",
    "        result['labels_3d'] = torch.Tensor(result['labels_3d']).numpy()\n",
    "        sample_token = dict()\n",
    "        sample_token['token'] = get_sample_token(fn)\n",
    "        result.update({'metadata':sample_token})\n",
    "        result.update({'name':class_labels})\n",
    "        \n",
    "    f.close()\n",
    "    return result\n",
    "\n",
    "def read_results():\n",
    "    \"\"\"\n",
    "    Reads the results from prediction files.\n",
    "\n",
    "    Returns:\n",
    "        list: A list of dictionaries containing the processed prediction data.\n",
    "    \"\"\"\n",
    "    preds_fn = os.listdir(preds_dir)\n",
    "    results = []\n",
    "    count = 1\n",
    "    for fn in preds_fn:\n",
    "        if count%1000 == 0:\n",
    "            print(\"Read results count: \", str(count))\n",
    "        results.append(read_preds_file(fn))\n",
    "        count += 1\n",
    "    return results\n",
    "\n",
    "def custom_result(fn):\n",
    "    results = [read_preds_file(fn)]\n",
    "    return results\n"
   ]
  },
  {
   "cell_type": "code",
   "execution_count": null,
   "metadata": {},
   "outputs": [],
   "source": [
    "def save_nusc_results(det_annos, **kwargs):\n",
    "    nusc_annos = transform_det_annos_to_nusc_annos(det_annos, nusc)\n",
    "    nusc_annos['meta'] = {\n",
    "        'use_camera': False,\n",
    "        'use_lidar': True,\n",
    "        'use_radar': False,\n",
    "        'use_map': False,\n",
    "        'use_external': False,\n",
    "    }\n",
    "\n",
    "    output_path = Path(kwargs['output_path'])\n",
    "    output_path.mkdir(exist_ok=True, parents=True)\n",
    "    res_path = str(output_path / 'results_nusc.json')\n",
    "    with open(res_path, 'w') as f:\n",
    "        json.dump(nusc_annos, f)\n",
    "    \n",
    "    print(f'The predictions of NuScenes have been saved to {res_path}')\n",
    "    return output_path, res_path\n",
    "\n",
    "def get_metrics(output_path, res_path):\n",
    "    try:\n",
    "        eval_version = 'detection_cvpr_2019'\n",
    "        eval_config = config_factory(eval_version)\n",
    "    except:\n",
    "        eval_version = 'cvpr_2019'\n",
    "        eval_config = config_factory(eval_version)\n",
    "\n",
    "    nusc_eval = NuScenesEval(\n",
    "        nusc,\n",
    "        config=eval_config,\n",
    "        result_path=res_path,\n",
    "        eval_set=eval_set_map[dataset_version],\n",
    "        output_dir=str(output_path),\n",
    "        verbose=True,\n",
    "    )\n",
    "    metrics_summary = nusc_eval.main(plot_examples=0, render_curves=False)\n",
    "\n",
    "    with open(output_path / 'metrics_summary.json', 'r') as f:\n",
    "        metrics = json.load(f)\n",
    "    return metrics, metrics_summary, nusc_eval"
   ]
  },
  {
   "cell_type": "code",
   "execution_count": null,
   "metadata": {},
   "outputs": [],
   "source": [
    "def filter_results(results):\n",
    "    return [\n",
    "        result\n",
    "        for result in results\n",
    "        if result['metadata']['token'] in mini_val_tokens\n",
    "    ]"
   ]
  },
  {
   "cell_type": "code",
   "execution_count": null,
   "metadata": {},
   "outputs": [],
   "source": [
    "construct_token_dict()\n",
    "results = read_results()\n",
    "results = filter_results(results)\n",
    "nusc_results = transform_det_annos_to_nusc_annos(results, nusc)"
   ]
  },
  {
   "cell_type": "code",
   "execution_count": null,
   "metadata": {},
   "outputs": [],
   "source": [
    "print(len(nusc_results['results']))\n",
    "output_path, res_path = save_nusc_results(results, output_path=model_dir)\n",
    "metrics, metrics_summary, obj = get_metrics(output_path, res_path)"
   ]
  },
  {
   "cell_type": "code",
   "execution_count": null,
   "metadata": {},
   "outputs": [],
   "source": [
    "metrics"
   ]
  },
  {
   "cell_type": "code",
   "execution_count": null,
   "metadata": {},
   "outputs": [],
   "source": [
    "metrics_summary"
   ]
  },
  {
   "cell_type": "code",
   "execution_count": null,
   "metadata": {},
   "outputs": [],
   "source": [
    "import random\n",
    "\n",
    "sample = \"b5989651183643369174912bc5641d3b\"\n",
    "sample = nusc.get('sample', sample)\n",
    "\n",
    "nusc.render_pointcloud_in_image(sample['token'], pointsensor_channel='LIDAR_TOP')"
   ]
  },
  {
   "cell_type": "code",
   "execution_count": null,
   "metadata": {},
   "outputs": [],
   "source": [
    "nusc.render_sample(sample['token'])"
   ]
  },
  {
   "cell_type": "code",
   "execution_count": null,
   "metadata": {},
   "outputs": [],
   "source": [
    "from nuscenes_render import render_sample_data_with_predictions\n",
    "\n",
    "box_list = []\n",
    "for annotation in nusc_results['results'][sample['token']]:\n",
    "    box_list.append(Box(center=annotation['translation'], size=annotation['size'], orientation=Quaternion(annotation['rotation'])))\n",
    "    \n",
    "# for ann in sample['anns']:\n",
    "#     details = nusc.get('sample_annotation', ann)\n",
    "#     box_list.append(Box(center=details['translation'], size = details['size'], orientation=Quaternion(details['rotation'])))\n",
    "    \n",
    "render_sample_data_with_predictions(sample['data']['LIDAR_TOP'], underlay_map=False, pred_boxes=box_list, nusc=nusc)"
   ]
  },
  {
   "cell_type": "code",
   "execution_count": null,
   "metadata": {},
   "outputs": [],
   "source": [
    "len(sample['anns'])\n",
    "for ann in sample['anns']:\n",
    "    details = nusc.get('sample_annotation', ann)\n",
    "    print(f\"translation = {details['translation']}, \\t size = {details['size']} \\t class = {details['category_name']}\")"
   ]
  },
  {
   "cell_type": "code",
   "execution_count": null,
   "metadata": {},
   "outputs": [],
   "source": [
    "for annotation in nusc_results['results'][sample['token']]:\n",
    "    print(f\"translation = {annotation['translation']}, \\t size = {annotation['size']} \\t class = {annotation['detection_name']}\")"
   ]
  },
  {
   "cell_type": "code",
   "execution_count": null,
   "metadata": {},
   "outputs": [],
   "source": [
    "# for annotation in nusc_results['results'][sample['token']]:\n",
    "#     plot_custom_bounding_boxes(sample['token'], [Box(annotation['translation'], annotation['size'], Quaternion(annotation['rotation']), name=annotation['detection_name'])])"
   ]
  },
  {
   "cell_type": "code",
   "execution_count": 30,
   "metadata": {},
   "outputs": [
    {
     "name": "stdout",
     "output_type": "stream",
     "text": [
      "Initializing nuScenes detection evaluation\n",
      "Loaded results from /home/ranai/nuscenes_dataset/inference_results_mini/model2_good/results_nusc.json. Found detections for 81 samples.\n",
      "Loading annotations for mini_val split from nuScenes version: v1.0-mini\n"
     ]
    },
    {
     "name": "stderr",
     "output_type": "stream",
     "text": [
      "100%|██████████| 81/81 [00:00<00:00, 250.25it/s]\n"
     ]
    },
    {
     "name": "stdout",
     "output_type": "stream",
     "text": [
      "Loaded ground truth annotations for 81 samples.\n",
      "Filtering predictions\n",
      "=> Original number of boxes: 1741\n",
      "=> After distance based filtering: 1741\n",
      "=> After LIDAR and RADAR points based filtering: 1741\n",
      "=> After bike rack filtering: 1741\n",
      "Filtering ground truth annotations\n",
      "=> Original number of boxes: 4441\n",
      "=> After distance based filtering: 3785\n",
      "=> After LIDAR and RADAR points based filtering: 3393\n",
      "=> After bike rack filtering: 3393\n",
      "Accumulating metric data...\n",
      "Calculating metrics...\n"
     ]
    },
    {
     "data": {
      "text/plain": [
       "(<nuscenes.eval.detection.data_classes.DetectionMetrics at 0x7fcc6b390880>,\n",
       " <nuscenes.eval.detection.data_classes.DetectionMetricDataList at 0x7fcd38293b20>)"
      ]
     },
     "execution_count": 30,
     "metadata": {},
     "output_type": "execute_result"
    }
   ],
   "source": [
    "from nuscenes_evaluate import DetectionEval as CustomDetectionEval\n",
    "\n",
    "#   def __init__(self,\n",
    "#                  nusc: NuScenes,\n",
    "#                  config: DetectionConfig,\n",
    "#                  result_path: str,\n",
    "#                  eval_set: str,\n",
    "#                  output_dir: str = None,\n",
    "#                  verbose: bool = True):\n",
    "\n",
    "eval = CustomDetectionEval(\n",
    "    nusc=nusc,\n",
    "    config=eval_config,\n",
    "    result_path=f'{model_dir}/results_nusc.json',\n",
    "    eval_set=eval_set_map[dataset_version],\n",
    "    output_dir=os.getcwd(),\n",
    "    verbose=True,\n",
    ")\n",
    "\n",
    "eval.custom_evaluate()"
   ]
  }
 ],
 "metadata": {
  "kernelspec": {
   "display_name": "detection",
   "language": "python",
   "name": "python3"
  },
  "language_info": {
   "codemirror_mode": {
    "name": "ipython",
    "version": 3
   },
   "file_extension": ".py",
   "mimetype": "text/x-python",
   "name": "python",
   "nbconvert_exporter": "python",
   "pygments_lexer": "ipython3",
   "version": "3.8.18"
  },
  "orig_nbformat": 4
 },
 "nbformat": 4,
 "nbformat_minor": 2
}
