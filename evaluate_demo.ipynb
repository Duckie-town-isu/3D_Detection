{
 "cells": [
  {
   "cell_type": "code",
   "execution_count": 2,
   "metadata": {},
   "outputs": [
    {
     "name": "stdout",
     "output_type": "stream",
     "text": [
      "======\n",
      "Loading NuScenes tables for version v1.0-trainval...\n",
      "23 category,\n",
      "8 attribute,\n",
      "4 visibility,\n",
      "64386 instance,\n",
      "12 sensor,\n",
      "10200 calibrated_sensor,\n",
      "2631083 ego_pose,\n",
      "68 log,\n",
      "850 scene,\n",
      "34149 sample,\n",
      "2631083 sample_data,\n",
      "1166187 sample_annotation,\n",
      "4 map,\n",
      "Done loading in 25.381 seconds.\n",
      "======\n",
      "Reverse indexing ...\n",
      "Done reverse indexing in 5.8 seconds.\n",
      "======\n"
     ]
    }
   ],
   "source": [
    "import os\n",
    "import pdb\n",
    "import subprocess\n",
    "\n",
    "# Choosing a file\n",
    "from pathlib import Path\n",
    "from nuscenes.nuscenes import NuScenes\n",
    "\n",
    "home_dir = str(Path.home())\n",
    "out_dir = f\"{home_dir}/nuscenes_dataset/inference_results\"\n",
    "pcd_path = f\"{home_dir}/nuscenes_dataset/nuscenes_full/samples/LIDAR_TOP/\"\n",
    "print\n",
    "\n",
    "pcd_list = os.listdir(pcd_path)\n",
    "\n",
    "nusc = NuScenes(version='v1.0-trainval', dataroot = f\"{home_dir}/nuscenes_dataset/nuscenes_full\")\n"
   ]
  },
  {
   "cell_type": "code",
   "execution_count": 3,
   "metadata": {},
   "outputs": [
    {
     "ename": "",
     "evalue": "",
     "output_type": "error",
     "traceback": [
      "\u001b[1;31mThe Kernel crashed while executing code in the the current cell or a previous cell. Please review the code in the cell(s) to identify a possible cause of the failure. Click <a href='https://aka.ms/vscodeJupyterKernelCrash'>here</a> for more info. View Jupyter <a href='command:jupyter.viewOutput'>log</a> for further details."
     ]
    }
   ],
   "source": [
    "# Look for this filename n015-2018-10-08-16-03-24+0800__LIDAR_TOP__1538986186697691.pcd\n",
    "\n",
    "token_dict = dict()\n",
    "for scene in nusc.scene:\n",
    "    sample_token = scene['first_sample_token']\n",
    "    sample = nusc.get('sample', sample_token)\n",
    "    lidar_data = nusc.get('sample_data', sample['data'][\"LIDAR_TOP\"])\n",
    "    while sample['next'] != \"\":\n",
    "        filename = lidar_data['filename']\n",
    "        \n",
    "        if \"n015-2018-10-08-16-03-24+0800__LIDAR_TOP__1538986186697691.pcd\" in filename:\n",
    "            nusc.render_sample_data(lidar_data['token'])\n",
    "        \n",
    "        file_str = filename[filename.rfind(\"/\")+1:].replace(\"bin\", \"json\")\n",
    "        token_dict[file_str] = {\"lidar_token\": lidar_data['token'], \"sample_token\": lidar_data['sample_token']}\n",
    "        sample = nusc.get(\"sample\", sample['next'])\n",
    "        lidar_data = nusc.get('sample_data', sample['data'][\"LIDAR_TOP\"])\n",
    "        "
   ]
  },
  {
   "cell_type": "code",
   "execution_count": null,
   "metadata": {},
   "outputs": [],
   "source": [
    "scene = nusc.scene[0]\n",
    "\n",
    "sample_token = scene['first_sample_token']\n",
    "\n",
    "sample = nusc.get('sample', sample_token)\n",
    "\n",
    "lidar_data = nusc.get('sample_data', sample['data'][\"LIDAR_TOP\"])\n",
    "\n"
   ]
  },
  {
   "cell_type": "code",
   "execution_count": null,
   "metadata": {},
   "outputs": [],
   "source": [
    "lidar_data"
   ]
  },
  {
   "cell_type": "code",
   "execution_count": null,
   "metadata": {},
   "outputs": [],
   "source": [
    "sample[\"data\"]"
   ]
  },
  {
   "cell_type": "code",
   "execution_count": null,
   "metadata": {},
   "outputs": [],
   "source": [
    "sample"
   ]
  },
  {
   "cell_type": "code",
   "execution_count": null,
   "metadata": {},
   "outputs": [],
   "source": [
    "next_sample = nusc.get(\"sample\", sample['next'])\n",
    "next_lidar_data = nusc.get('sample_data', next_sample['data'][\"LIDAR_TOP\"])\n",
    "next_lidar_data\n"
   ]
  },
  {
   "cell_type": "code",
   "execution_count": null,
   "metadata": {},
   "outputs": [],
   "source": [
    "filename = lidar_data['filename']\n",
    "print(filename)\n",
    "\n",
    "\n",
    "lidar_data = nusc.get('sample_data', lidar_data['next'])\n",
    "filename = lidar_data['filename']\n",
    "print(filename)\n",
    "\n",
    "# lidar_data = nusc.get('sample_data', lidar_data['next'])\n",
    "# filename = lidar_data['filename']\n",
    "# print(filename)\n",
    "\n",
    "# lidar_data = nusc.get('sample_data', lidar_data['next'])\n",
    "# filename = lidar_data['filename']\n",
    "# print(filename)  "
   ]
  },
  {
   "cell_type": "code",
   "execution_count": null,
   "metadata": {},
   "outputs": [],
   "source": [
    "for scene in nusc.scene:\n",
    "    sample_token = scene['first_sample_token']\n",
    "    lidar_data = nusc.get('sample_data', sample['data'][\"LIDAR_TOP\"])\n",
    "    \n",
    "    while lidar_data['next'] != \"\":\n",
    "        filename = lidar_data['filename']\n",
    "        print(filename)\n",
    "        lidar_data = nusc.get('sample_data', lidar_data['next'])\n",
    "        # sample = nusc.get('sample', sample_token)\n",
    "        "
   ]
  },
  {
   "cell_type": "code",
   "execution_count": null,
   "metadata": {},
   "outputs": [],
   "source": []
  }
 ],
 "metadata": {
  "kernelspec": {
   "display_name": "Python 3",
   "language": "python",
   "name": "python3"
  },
  "language_info": {
   "codemirror_mode": {
    "name": "ipython",
    "version": 3
   },
   "file_extension": ".py",
   "mimetype": "text/x-python",
   "name": "python",
   "nbconvert_exporter": "python",
   "pygments_lexer": "ipython3",
   "version": "3.8.10"
  }
 },
 "nbformat": 4,
 "nbformat_minor": 2
}
